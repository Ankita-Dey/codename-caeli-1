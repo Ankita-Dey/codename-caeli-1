{
 "cells": [
  {
   "cell_type": "code",
   "execution_count": 6,
   "metadata": {},
   "outputs": [],
   "source": [
    "import csv\n",
    "import numpy as np\n",
    "from scipy import interpolate\n",
    "article_open= open('/home/sharvari_ubuntu/Documents/DM/DM_project/codename-caeli-main/Cleaned Datasets/AirQualityData-Clean.csv')\n",
    "csv_read = csv.reader(article_open)\n",
    "list_csv=list(csv_read)\n",
    "# print(list_csv)"
   ]
  },
  {
   "cell_type": "code",
   "execution_count": 7,
   "metadata": {},
   "outputs": [],
   "source": [
    "dict_data={}\n",
    "list_state=[]\n",
    "for i in range(1,len(list_csv)):\n",
    "    dict_data[list_csv[i][0]+'/'+list_csv[i][1]]=list_csv[i][2:]\n",
    "    list_state.append(list_csv[i][0])\n",
    "    "
   ]
  },
  {
   "cell_type": "code",
   "execution_count": 8,
   "metadata": {
    "scrolled": true
   },
   "outputs": [],
   "source": [
    "#for key,value in dict_data.items():\n",
    "#    for v in dict_data.values():\n",
    "#        if v[2]==''\n",
    "\n",
    "for state in list(set(list_state)):\n",
    "    year_so2=[]\n",
    "    year_no2=[]\n",
    "    year_rspm=[]\n",
    "    empty_year_so2=[]\n",
    "    empty_year_no2=[]\n",
    "    empty_year_rspm=[]\n",
    "    value_so2=[]\n",
    "    value_no2=[]\n",
    "    value_rspm=[]\n",
    "    for i, j in dict_data.items():\n",
    "        temp=i.split('/')\n",
    "        if temp[0]==state:\n",
    "            if j[0]!='':\n",
    "                year_so2.append(int(temp[1]))\n",
    "                value_so2.append(float(j[0]))\n",
    "            else:\n",
    "                empty_year_so2.append(int(temp[1]))               \n",
    "            if j[1]!='':\n",
    "                year_no2.append(int(temp[1]))\n",
    "                value_no2.append(float(j[1]))\n",
    "            else:\n",
    "                empty_year_no2.append(int(temp[1]))\n",
    "            if j[2]!='':\n",
    "                year_rspm.append(int(temp[1]))\n",
    "                value_rspm.append(float(j[2]))\n",
    "            else:\n",
    "                empty_year_rspm.append(int(temp[1]))\n",
    "    \n",
    "    for y in empty_year_so2:\n",
    "        stats= dict_data[state+'/'+str(y)]\n",
    "        s = interpolate.interp1d(year_so2, value_so2, fill_value = \"extrapolate\")\n",
    "        stats[0]=str(s(y))\n",
    "        dict_data[state+'/'+str(y)]=stats\n",
    "        \n",
    "    for y in empty_year_no2:\n",
    "        stats= dict_data[state+'/'+str(y)]    \n",
    "        n = interpolate.interp1d(year_no2, value_no2, fill_value = \"extrapolate\")\n",
    "        stats[1]=str(n(y))\n",
    "        dict_data[state+'/'+str(y)]=stats\n",
    "        \n",
    "    for y in empty_year_rspm:\n",
    "        stats= dict_data[state+'/'+str(y)]\n",
    "        r = interpolate.interp1d(year_rspm, value_rspm, fill_value = \"extrapolate\")\n",
    "        stats[2]=str(r(y))\n",
    "        dict_data[state+'/'+str(y)]=stats\n",
    "        \n",
    "# print(dict_data)       \n",
    "\n",
    "            \n",
    "    "
   ]
  },
  {
   "cell_type": "code",
   "execution_count": 9,
   "metadata": {
    "scrolled": true
   },
   "outputs": [],
   "source": [
    "state_array=['Assam','Bihar','Dadra & Nagar Haveli','Daman & Diu','Delhi','Jammu & Kashmir','Karnataka','Manipur','Meghalaya','Mizoram','Nagaland','Uttarakhand']\n",
    "\n",
    "for state in state_array:\n",
    "    year=[]\n",
    "    value_so2=[]\n",
    "    value_no2=[]\n",
    "    value_rspm=[]\n",
    "    for i,j in dict_data.items():\n",
    "        temp=i.split('/')\n",
    "        if temp[0]==state:\n",
    "            year.append(int(temp[1]))\n",
    "            value_so2.append(float(j[0]))           \n",
    "            value_no2.append(float(j[1]))       \n",
    "            value_rspm.append(float(j[2]))\n",
    "                          \n",
    "    for y in range(2005,2015):\n",
    "        stats=[]\n",
    "        if y not in year:\n",
    "            s = interpolate.interp1d(year, value_so2, fill_value = \"extrapolate\")\n",
    "            n = interpolate.interp1d(year, value_no2, fill_value = \"extrapolate\")\n",
    "            r = interpolate.interp1d(year, value_rspm, fill_value = \"extrapolate\")\n",
    "            stats.append(str(s(y)))\n",
    "            stats.append(str(n(y)))\n",
    "            stats.append(str(r(y))) \n",
    "            dict_data[state+'/'+str(y)]=stats\n",
    "\n",
    "# print((dict_data))"
   ]
  },
  {
   "cell_type": "code",
   "execution_count": 10,
   "metadata": {},
   "outputs": [],
   "source": [
    "result=[]\n",
    "final=dict(sorted(dict_data.items())) \n",
    "for i,j in final.items():\n",
    "    temp=i.split('/')\n",
    "    result.append({'State':temp[0],'Year':temp[1],'so2':j[0],'no2':j[1],'rspm':j[2]})\n",
    "\n",
    "\n",
    "try:\n",
    "    with open(\"filled_data_air.csv\", 'w') as csvfile:\n",
    "        writer = csv.DictWriter(csvfile, fieldnames=['State', 'Year','so2','no2','rspm'])\n",
    "        writer.writeheader()\n",
    "        writer.writerows(result)\n",
    "except IOError:\n",
    "    print(\"I/O error\")\n"
   ]
  },
  {
   "cell_type": "code",
   "execution_count": null,
   "metadata": {},
   "outputs": [],
   "source": []
  },
  {
   "cell_type": "code",
   "execution_count": null,
   "metadata": {},
   "outputs": [],
   "source": []
  },
  {
   "cell_type": "code",
   "execution_count": null,
   "metadata": {},
   "outputs": [],
   "source": []
  }
 ],
 "metadata": {
  "kernelspec": {
   "display_name": "Python 3",
   "language": "python",
   "name": "python3"
  },
  "language_info": {
   "codemirror_mode": {
    "name": "ipython",
    "version": 3
   },
   "file_extension": ".py",
   "mimetype": "text/x-python",
   "name": "python",
   "nbconvert_exporter": "python",
   "pygments_lexer": "ipython3",
   "version": "3.8.3"
  }
 },
 "nbformat": 4,
 "nbformat_minor": 4
}

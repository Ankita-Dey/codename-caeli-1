{
 "metadata": {
  "language_info": {
   "codemirror_mode": {
    "name": "ipython",
    "version": 3
   },
   "file_extension": ".py",
   "mimetype": "text/x-python",
   "name": "python",
   "nbconvert_exporter": "python",
   "pygments_lexer": "ipython3",
   "version": "3.7.9-final"
  },
  "orig_nbformat": 2,
  "kernelspec": {
   "name": "python3",
   "display_name": "Python 3"
  }
 },
 "nbformat": 4,
 "nbformat_minor": 2,
 "cells": [
  {
   "cell_type": "code",
   "execution_count": 394,
   "metadata": {},
   "outputs": [],
   "source": [
    "inputfile = 'MotorVehicles.xlsx'"
   ]
  },
  {
   "cell_type": "code",
   "execution_count": 395,
   "metadata": {},
   "outputs": [],
   "source": [
    "import pandas as pd\n",
    "import numpy as np"
   ]
  },
  {
   "cell_type": "code",
   "execution_count": 396,
   "metadata": {},
   "outputs": [],
   "source": [
    "df = pd.read_excel(inputfile)"
   ]
  },
  {
   "cell_type": "code",
   "execution_count": 397,
   "metadata": {},
   "outputs": [],
   "source": [
    "df.iloc[4,0] = 'state/ut'\n",
    "df.iloc[4] = [str(word).strip() for word in df.iloc[4]]\n",
    "new_header = df.iloc[4] #grab the fourth row for the header\n",
    "df = df[8:46] #take the data less the header row\n",
    "df.columns = new_header #set the header row as the df header"
   ]
  },
  {
   "cell_type": "code",
   "execution_count": 398,
   "metadata": {},
   "outputs": [],
   "source": [
    "df = df.drop([df.index[29], df.index[30]])"
   ]
  },
  {
   "cell_type": "code",
   "execution_count": 399,
   "metadata": {},
   "outputs": [],
   "source": [
    "df.iloc[:, :].replace({'-': None}, inplace=True) # replace - with None/Null"
   ]
  },
  {
   "cell_type": "code",
   "execution_count": 400,
   "metadata": {},
   "outputs": [],
   "source": [
    "# Remove white spaces\n",
    "df[\"state/ut\"] = df[\"state/ut\"].str.strip()"
   ]
  },
  {
   "cell_type": "code",
   "execution_count": 401,
   "metadata": {},
   "outputs": [],
   "source": [
    "df = df.set_index(\"state/ut\")"
   ]
  },
  {
   "cell_type": "code",
   "execution_count": 402,
   "metadata": {},
   "outputs": [],
   "source": [
    "df = df.rename(index={'Orissa': 'Odisha'})\n",
    "df = df.rename(index={'Chhatisgarh': 'Chhattisgarh'})\n",
    "df = df.rename(index={'A. & N. Islands': 'Andaman & Nicobar Islands'})\n",
    "df = df.rename(index={'D. & N. Haveli': 'Dadra & Nagar Haveli'})"
   ]
  },
  {
   "cell_type": "code",
   "execution_count": 403,
   "metadata": {},
   "outputs": [],
   "source": [
    "idx = df[~df.iloc[:, 1:].applymap(np.isreal).all(1)].index #index having non numeric values"
   ]
  },
  {
   "cell_type": "code",
   "execution_count": 404,
   "metadata": {},
   "outputs": [],
   "source": [
    "# idx = df[~df.iloc[:, 1:].applymap(np.isreal).all(1)].index #index having non numeric values\n",
    "for i in df.index:\n",
    "    for c in df.columns:\n",
    "        if type(df[c][i]) == str:\n",
    "            \n",
    "            k = len(df[c][i]) - 1\n",
    "            while(k >= 0):\n",
    "                if not df[c][i][k].isdigit():\n",
    "                    df[c][i] = df[c][i][:k] + df[c][i][k+1:]\n",
    "                k-=1\n",
    "            df[c][i] = int(df[c][i])"
   ]
  },
  {
   "cell_type": "code",
   "execution_count": 405,
   "metadata": {},
   "outputs": [],
   "source": [
    "# sum contents of Andhra Pradesh and Telangana\n",
    "df.loc['Andhra Pradesh', :] = df.loc[['Andhra Pradesh', 'Telangana']].sum()\n",
    "df = df.drop('Telangana')"
   ]
  },
  {
   "cell_type": "code",
   "execution_count": 406,
   "metadata": {},
   "outputs": [],
   "source": [
    "df.to_csv(\"MotorVehicles-Clean.csv\")"
   ]
  },
  {
   "cell_type": "code",
   "execution_count": 407,
   "metadata": {},
   "outputs": [
    {
     "output_type": "execute_result",
     "data": {
      "text/plain": [
       "4\n",
       "2001    0\n",
       "2002    0\n",
       "2003    0\n",
       "2004    0\n",
       "2005    0\n",
       "2006    0\n",
       "2007    0\n",
       "2008    0\n",
       "2009    0\n",
       "2010    0\n",
       "2011    0\n",
       "2012    0\n",
       "2013    0\n",
       "2014    0\n",
       "2015    0\n",
       "dtype: int64"
      ]
     },
     "metadata": {},
     "execution_count": 407
    }
   ],
   "source": [
    "# Get number of rows that have null values\n",
    "df.isnull().sum()"
   ]
  },
  {
   "cell_type": "code",
   "execution_count": 408,
   "metadata": {},
   "outputs": [
    {
     "output_type": "execute_result",
     "data": {
      "text/plain": [
       "Empty DataFrame\n",
       "Columns: [2001, 2002, 2003, 2004, 2005, 2006, 2007, 2008, 2009, 2010, 2011, 2012, 2013, 2014, 2015]\n",
       "Index: []"
      ],
      "text/html": "<div>\n<style scoped>\n    .dataframe tbody tr th:only-of-type {\n        vertical-align: middle;\n    }\n\n    .dataframe tbody tr th {\n        vertical-align: top;\n    }\n\n    .dataframe thead th {\n        text-align: right;\n    }\n</style>\n<table border=\"1\" class=\"dataframe\">\n  <thead>\n    <tr style=\"text-align: right;\">\n      <th>4</th>\n      <th>2001</th>\n      <th>2002</th>\n      <th>2003</th>\n      <th>2004</th>\n      <th>2005</th>\n      <th>2006</th>\n      <th>2007</th>\n      <th>2008</th>\n      <th>2009</th>\n      <th>2010</th>\n      <th>2011</th>\n      <th>2012</th>\n      <th>2013</th>\n      <th>2014</th>\n      <th>2015</th>\n    </tr>\n    <tr>\n      <th>state/ut</th>\n      <th></th>\n      <th></th>\n      <th></th>\n      <th></th>\n      <th></th>\n      <th></th>\n      <th></th>\n      <th></th>\n      <th></th>\n      <th></th>\n      <th></th>\n      <th></th>\n      <th></th>\n      <th></th>\n      <th></th>\n    </tr>\n  </thead>\n  <tbody>\n  </tbody>\n</table>\n</div>"
     },
     "metadata": {},
     "execution_count": 408
    }
   ],
   "source": [
    "# Get rows that have null values\n",
    "df[df.isnull().any(axis=1)]"
   ]
  },
  {
   "cell_type": "code",
   "execution_count": 409,
   "metadata": {},
   "outputs": [
    {
     "output_type": "execute_result",
     "data": {
      "text/plain": [
       "Empty DataFrame\n",
       "Columns: [2001, 2002, 2003, 2004, 2005, 2006, 2007, 2008, 2009, 2010, 2011, 2012, 2013, 2014, 2015]\n",
       "Index: []"
      ],
      "text/html": "<div>\n<style scoped>\n    .dataframe tbody tr th:only-of-type {\n        vertical-align: middle;\n    }\n\n    .dataframe tbody tr th {\n        vertical-align: top;\n    }\n\n    .dataframe thead th {\n        text-align: right;\n    }\n</style>\n<table border=\"1\" class=\"dataframe\">\n  <thead>\n    <tr style=\"text-align: right;\">\n      <th>4</th>\n      <th>2001</th>\n      <th>2002</th>\n      <th>2003</th>\n      <th>2004</th>\n      <th>2005</th>\n      <th>2006</th>\n      <th>2007</th>\n      <th>2008</th>\n      <th>2009</th>\n      <th>2010</th>\n      <th>2011</th>\n      <th>2012</th>\n      <th>2013</th>\n      <th>2014</th>\n      <th>2015</th>\n    </tr>\n    <tr>\n      <th>state/ut</th>\n      <th></th>\n      <th></th>\n      <th></th>\n      <th></th>\n      <th></th>\n      <th></th>\n      <th></th>\n      <th></th>\n      <th></th>\n      <th></th>\n      <th></th>\n      <th></th>\n      <th></th>\n      <th></th>\n      <th></th>\n    </tr>\n  </thead>\n  <tbody>\n  </tbody>\n</table>\n</div>"
     },
     "metadata": {},
     "execution_count": 409
    }
   ],
   "source": [
    "# Get rows that have non numeric values\n",
    "df[~df.iloc[:, 1:].applymap(np.isreal).all(1)]"
   ]
  },
  {
   "cell_type": "code",
   "execution_count": 393,
   "metadata": {},
   "outputs": [
    {
     "output_type": "execute_result",
     "data": {
      "text/plain": [
       "Index(['Andhra Pradesh', 'Arunachal Pradesh', 'Assam', 'Bihar', 'Chhattisgarh',\n",
       "       'Goa', 'Gujarat', 'Haryana', 'Himachal Pradesh', 'Jammu & Kashmir',\n",
       "       'Jharkhand', 'Karnataka', 'Kerala', 'Madhya Pradesh', 'Maharashtra',\n",
       "       'Manipur', 'Meghalaya', 'Mizoram', 'Nagaland', 'Odisha', 'Punjab',\n",
       "       'Rajasthan', 'Sikkim', 'Tamil Nadu', 'Tripura', 'Uttarakhand',\n",
       "       'Uttar Pradesh', 'West Bengal', 'Andaman and Nicobar Islands',\n",
       "       'Chandigarh', 'Dadra and Nagar Haveli', 'Daman & Diu', 'Delhi',\n",
       "       'Lakshadweep', 'Puducherry'],\n",
       "      dtype='object', name='state/ut')"
      ]
     },
     "metadata": {},
     "execution_count": 393
    }
   ],
   "source": [
    "df.index"
   ]
  },
  {
   "cell_type": "code",
   "execution_count": null,
   "metadata": {},
   "outputs": [],
   "source": []
  }
 ]
}
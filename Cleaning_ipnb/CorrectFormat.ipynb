{
 "metadata": {
  "language_info": {
   "codemirror_mode": {
    "name": "ipython",
    "version": 3
   },
   "file_extension": ".py",
   "mimetype": "text/x-python",
   "name": "python",
   "nbconvert_exporter": "python",
   "pygments_lexer": "ipython3",
   "version": "3.7.9-final"
  },
  "orig_nbformat": 2,
  "kernelspec": {
   "name": "python3",
   "display_name": "Python 3"
  }
 },
 "nbformat": 4,
 "nbformat_minor": 2,
 "cells": [
  {
   "cell_type": "code",
   "execution_count": 4,
   "metadata": {},
   "outputs": [],
   "source": [
    "import csv\n",
    "\n",
    "def correctFormat(inputfile, inputfile2, outputfile):\n",
    "    with open(inputfile, 'r') as f:\n",
    "        ip = list(csv.reader(f))\n",
    "\n",
    "        if outputfile.startswith('Industries'):\n",
    "            with open(inputfile2, 'r') as f:\n",
    "                ip2 = list(csv.reader(f))\n",
    "\n",
    "            for i in range(len(ip2)):\n",
    "                for col in range(1, 7):\n",
    "                    ip[i].append(ip2[i][col])\n",
    "    \n",
    "    op = [['State', 'Year', 'Feature']]\n",
    "\n",
    "    for row in ip[1:]:\n",
    "        for col in range(5,15):\n",
    "            if row[0] not in ['Andaman & Nicobar Islands', 'Lakshadweep', 'Tripura']:\n",
    "                op.append([row[0], ip[0][col], row[col]])\n",
    "    \n",
    "    with open(outputfile, \"w\", newline=\"\") as f:\n",
    "        writer = csv.writer(f)\n",
    "        writer.writerows(op)"
   ]
  },
  {
   "cell_type": "code",
   "execution_count": 5,
   "metadata": {},
   "outputs": [],
   "source": [
    "inputfile = 'MotorVehicles-Clean.csv'\n",
    "outputfile = 'MotorVehicles-UpdatedFormat.csv'\n",
    "correctFormat(inputfile, _, outputfile)\n",
    "\n",
    "inputfile = '2001-2008_industry_data_CLEANED.csv'\n",
    "outputfile = 'Industries-UpdatedFormat.csv'\n",
    "inputfile2 = 'Industries-Clean.csv'\n",
    "correctFormat(inputfile, inputfile2, outputfile)"
   ]
  }
 ]
}
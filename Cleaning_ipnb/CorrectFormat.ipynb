{
 "metadata": {
  "language_info": {
   "codemirror_mode": {
    "name": "ipython",
    "version": 3
   },
   "file_extension": ".py",
   "mimetype": "text/x-python",
   "name": "python",
   "nbconvert_exporter": "python",
   "pygments_lexer": "ipython3",
   "version": "3.7.9-final"
  },
  "orig_nbformat": 2,
  "kernelspec": {
   "name": "python3",
   "display_name": "Python 3"
  }
 },
 "nbformat": 4,
 "nbformat_minor": 2,
 "cells": [
  {
   "cell_type": "code",
   "execution_count": 54,
   "metadata": {},
   "outputs": [],
   "source": [
    "import csv"
   ]
  },
  {
   "cell_type": "code",
   "execution_count": 55,
   "metadata": {},
   "outputs": [],
   "source": [
    "# inputfile = 'MotorVehicles-Clean.csv'\n",
    "# outputfile = 'MotorVehicles-UpdatedFormat.csv'\n",
    "\n",
    "inputfile = '2001-2008_industry_data_CLEANED.csv'\n",
    "outputfile = 'Industries-UpdatedFormat.csv'\n",
    "inputfile2 = 'Industries-Clean.csv'"
   ]
  },
  {
   "cell_type": "code",
   "execution_count": 56,
   "metadata": {},
   "outputs": [],
   "source": [
    "with open(inputfile, 'r') as f:\n",
    "    ip = list(csv.reader(f))"
   ]
  },
  {
   "cell_type": "code",
   "execution_count": 57,
   "metadata": {
    "tags": []
   },
   "outputs": [],
   "source": [
    "if outputfile.startswith('Industries'):\n",
    "    with open(inputfile2, 'r') as f:\n",
    "        ip2 = list(csv.reader(f))\n",
    "\n",
    "    for i in range(len(ip2)):\n",
    "        for col in range(1, 7):\n",
    "            ip[i].append(ip2[i][col])"
   ]
  },
  {
   "cell_type": "code",
   "execution_count": 58,
   "metadata": {},
   "outputs": [],
   "source": [
    "op = [['State', 'Year', 'Feature']]"
   ]
  },
  {
   "cell_type": "code",
   "execution_count": 59,
   "metadata": {},
   "outputs": [],
   "source": [
    "for row in ip[1:]:\n",
    "    for col in range(5,15):\n",
    "        if row[0] not in ['Andaman & Nicobar Islands', 'Lakshadweep', 'Tripura']:\n",
    "            op.append([row[0], ip[0][col], row[col]])"
   ]
  },
  {
   "cell_type": "code",
   "execution_count": 60,
   "metadata": {},
   "outputs": [],
   "source": [
    "with open(outputfile, \"w\", newline=\"\") as f:\n",
    "    writer = csv.writer(f)\n",
    "    writer.writerows(op)"
   ]
  },
  {
   "cell_type": "code",
   "execution_count": null,
   "metadata": {},
   "outputs": [],
   "source": []
  }
 ]
}
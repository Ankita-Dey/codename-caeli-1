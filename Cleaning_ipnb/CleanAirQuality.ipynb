{
 "metadata": {
  "language_info": {
   "codemirror_mode": {
    "name": "ipython",
    "version": 3
   },
   "file_extension": ".py",
   "mimetype": "text/x-python",
   "name": "python",
   "nbconvert_exporter": "python",
   "pygments_lexer": "ipython3",
   "version": "3.7.9-final"
  },
  "orig_nbformat": 2,
  "kernelspec": {
   "name": "Python 3.7.9 64-bit",
   "display_name": "Python 3.7.9 64-bit",
   "metadata": {
    "interpreter": {
     "hash": "b8c1dc0667d957209bd208daa667676ada033b9f1c9f74f83f0de44230d4154a"
    }
   }
  }
 },
 "nbformat": 4,
 "nbformat_minor": 2,
 "cells": [
  {
   "cell_type": "code",
   "execution_count": 286,
   "metadata": {},
   "outputs": [],
   "source": [
    "inputfile = 'AirQualityData.csv'"
   ]
  },
  {
   "cell_type": "code",
   "execution_count": 287,
   "metadata": {},
   "outputs": [],
   "source": [
    "import pandas as pd\n",
    "import numpy as np"
   ]
  },
  {
   "cell_type": "code",
   "execution_count": 288,
   "metadata": {},
   "outputs": [],
   "source": [
    "df = pd.read_csv(inputfile, encoding = \"ISO-8859-1\")"
   ]
  },
  {
   "cell_type": "code",
   "execution_count": 289,
   "metadata": {},
   "outputs": [
    {
     "output_type": "execute_result",
     "data": {
      "text/plain": [
       "array(['stn_code', 'sampling_date', 'state', 'location', 'agency', 'type',\n",
       "       'so2', 'no2', 'rspm', 'spm', 'location_monitoring_station',\n",
       "       'pm2_5', 'date', 'spm'], dtype=object)"
      ]
     },
     "metadata": {},
     "execution_count": 289
    }
   ],
   "source": [
    "df.columns.values"
   ]
  },
  {
   "cell_type": "code",
   "execution_count": 290,
   "metadata": {},
   "outputs": [],
   "source": [
    "df = df.drop(['stn_code', 'sampling_date', 'agency', 'type', 'location_monitoring_station','pm2_5'], axis = 1)"
   ]
  },
  {
   "cell_type": "code",
   "execution_count": 291,
   "metadata": {},
   "outputs": [],
   "source": [
    "years = ['2005','2006','2007','2008','2009','2010','2011','2012','2013','2014']\n",
    "df = df[df[\"date\"].str.contains('|'.join(years), na=False)]"
   ]
  },
  {
   "cell_type": "code",
   "execution_count": 292,
   "metadata": {},
   "outputs": [],
   "source": [
    "df.loc[:, 'date'] = df['date'].str.split('-', expand=True)[0]"
   ]
  },
  {
   "cell_type": "code",
   "execution_count": 293,
   "metadata": {},
   "outputs": [],
   "source": [
    "df['state'] = df['state'].replace(['Uttaranchal'],'Uttarakhand')"
   ]
  },
  {
   "cell_type": "code",
   "execution_count": 294,
   "metadata": {},
   "outputs": [],
   "source": [
    "# To check next output\n",
    "# df.loc[(df['date'] == '2014') & (df['state'] == 'West Bengal')].mean()"
   ]
  },
  {
   "cell_type": "code",
   "execution_count": 295,
   "metadata": {},
   "outputs": [],
   "source": [
    "df = df.groupby(['state','date']).mean()"
   ]
  },
  {
   "cell_type": "code",
   "execution_count": 296,
   "metadata": {},
   "outputs": [],
   "source": [
    "#MERGE ANDHRA PRADESH AND TELANGANA DATA AND DELETE TELANGANA DATA\n",
    "df.loc[('Telangana', '2014')] = df.loc[[('Andhra Pradesh', '2014'), ('Telangana', '2014')]].sum()\n",
    "df = df.drop(('Telangana', '2014'))"
   ]
  },
  {
   "cell_type": "code",
   "execution_count": 297,
   "metadata": {},
   "outputs": [],
   "source": [
    "df.to_csv(\"AirQualityData-Clean.csv\")"
   ]
  },
  {
   "cell_type": "code",
   "execution_count": 298,
   "metadata": {},
   "outputs": [
    {
     "output_type": "execute_result",
     "data": {
      "text/plain": [
       "so2       3\n",
       "no2       1\n",
       "rspm      2\n",
       "spm     104\n",
       "dtype: int64"
      ]
     },
     "metadata": {},
     "execution_count": 298
    }
   ],
   "source": [
    "# Get number of rows that have null values\n",
    "df.isnull().sum()"
   ]
  },
  {
   "cell_type": "code",
   "execution_count": 299,
   "metadata": {},
   "outputs": [
    {
     "output_type": "execute_result",
     "data": {
      "text/plain": [
       "              so2  no2       rspm        spm\n",
       "state   date                                \n",
       "Mizoram 2005  NaN  NaN  27.856287  93.586826"
      ],
      "text/html": "<div>\n<style scoped>\n    .dataframe tbody tr th:only-of-type {\n        vertical-align: middle;\n    }\n\n    .dataframe tbody tr th {\n        vertical-align: top;\n    }\n\n    .dataframe thead th {\n        text-align: right;\n    }\n</style>\n<table border=\"1\" class=\"dataframe\">\n  <thead>\n    <tr style=\"text-align: right;\">\n      <th></th>\n      <th></th>\n      <th>so2</th>\n      <th>no2</th>\n      <th>rspm</th>\n      <th>spm</th>\n    </tr>\n    <tr>\n      <th>state</th>\n      <th>date</th>\n      <th></th>\n      <th></th>\n      <th></th>\n      <th></th>\n    </tr>\n  </thead>\n  <tbody>\n    <tr>\n      <th>Mizoram</th>\n      <th>2005</th>\n      <td>NaN</td>\n      <td>NaN</td>\n      <td>27.856287</td>\n      <td>93.586826</td>\n    </tr>\n  </tbody>\n</table>\n</div>"
     },
     "metadata": {},
     "execution_count": 299
    }
   ],
   "source": [
    "# Get rows that have null values for no2\n",
    "df[df['no2'].isnull()]"
   ]
  },
  {
   "cell_type": "code",
   "execution_count": 300,
   "metadata": {},
   "outputs": [
    {
     "output_type": "execute_result",
     "data": {
      "text/plain": [
       "               so2        no2       rspm         spm\n",
       "state    date                                       \n",
       "Mizoram  2005  NaN        NaN  27.856287   93.586826\n",
       "         2008  NaN   7.246286  37.304207   80.275081\n",
       "Nagaland 2005  NaN  14.760000  79.764706  154.161765"
      ],
      "text/html": "<div>\n<style scoped>\n    .dataframe tbody tr th:only-of-type {\n        vertical-align: middle;\n    }\n\n    .dataframe tbody tr th {\n        vertical-align: top;\n    }\n\n    .dataframe thead th {\n        text-align: right;\n    }\n</style>\n<table border=\"1\" class=\"dataframe\">\n  <thead>\n    <tr style=\"text-align: right;\">\n      <th></th>\n      <th></th>\n      <th>so2</th>\n      <th>no2</th>\n      <th>rspm</th>\n      <th>spm</th>\n    </tr>\n    <tr>\n      <th>state</th>\n      <th>date</th>\n      <th></th>\n      <th></th>\n      <th></th>\n      <th></th>\n    </tr>\n  </thead>\n  <tbody>\n    <tr>\n      <th rowspan=\"2\" valign=\"top\">Mizoram</th>\n      <th>2005</th>\n      <td>NaN</td>\n      <td>NaN</td>\n      <td>27.856287</td>\n      <td>93.586826</td>\n    </tr>\n    <tr>\n      <th>2008</th>\n      <td>NaN</td>\n      <td>7.246286</td>\n      <td>37.304207</td>\n      <td>80.275081</td>\n    </tr>\n    <tr>\n      <th>Nagaland</th>\n      <th>2005</th>\n      <td>NaN</td>\n      <td>14.760000</td>\n      <td>79.764706</td>\n      <td>154.161765</td>\n    </tr>\n  </tbody>\n</table>\n</div>"
     },
     "metadata": {},
     "execution_count": 300
    }
   ],
   "source": [
    "# Get rows that have null values for so2\n",
    "df[df['so2'].isnull()]"
   ]
  },
  {
   "cell_type": "code",
   "execution_count": 301,
   "metadata": {},
   "outputs": [
    {
     "output_type": "execute_result",
     "data": {
      "text/plain": [
       "                                so2        no2  rspm  spm\n",
       "state                date                                \n",
       "Dadra & Nagar Haveli 2012  7.618667  20.181333   NaN  NaN\n",
       "Daman & Diu          2012  7.628947  20.147368   NaN  NaN"
      ],
      "text/html": "<div>\n<style scoped>\n    .dataframe tbody tr th:only-of-type {\n        vertical-align: middle;\n    }\n\n    .dataframe tbody tr th {\n        vertical-align: top;\n    }\n\n    .dataframe thead th {\n        text-align: right;\n    }\n</style>\n<table border=\"1\" class=\"dataframe\">\n  <thead>\n    <tr style=\"text-align: right;\">\n      <th></th>\n      <th></th>\n      <th>so2</th>\n      <th>no2</th>\n      <th>rspm</th>\n      <th>spm</th>\n    </tr>\n    <tr>\n      <th>state</th>\n      <th>date</th>\n      <th></th>\n      <th></th>\n      <th></th>\n      <th></th>\n    </tr>\n  </thead>\n  <tbody>\n    <tr>\n      <th>Dadra &amp; Nagar Haveli</th>\n      <th>2012</th>\n      <td>7.618667</td>\n      <td>20.181333</td>\n      <td>NaN</td>\n      <td>NaN</td>\n    </tr>\n    <tr>\n      <th>Daman &amp; Diu</th>\n      <th>2012</th>\n      <td>7.628947</td>\n      <td>20.147368</td>\n      <td>NaN</td>\n      <td>NaN</td>\n    </tr>\n  </tbody>\n</table>\n</div>"
     },
     "metadata": {},
     "execution_count": 301
    }
   ],
   "source": [
    "# Get rows that have null values for rspm\n",
    "df[df['rspm'].isnull()]"
   ]
  },
  {
   "cell_type": "code",
   "execution_count": 302,
   "metadata": {},
   "outputs": [
    {
     "output_type": "execute_result",
     "data": {
      "text/plain": [
       "                              so2        no2        rspm  spm\n",
       "state             date                                       \n",
       "Andhra Pradesh    2010   5.365275  15.397188   69.487281  NaN\n",
       "                  2012   7.438174  15.762852   77.661990  NaN\n",
       "                  2013   7.379130  17.400199   76.647496  NaN\n",
       "                  2014   8.658371  18.582353   74.896863  NaN\n",
       "Arunachal Pradesh 2014   2.000000   5.000000   69.400000  NaN\n",
       "...                           ...        ...         ...  ...\n",
       "Uttarakhand       2012  26.546667  29.173333  180.415855  NaN\n",
       "                  2013  23.455026  25.785714  141.844615  NaN\n",
       "West Bengal       2011  17.134927  56.929974  117.222886  NaN\n",
       "                  2012  41.414067  54.673853  106.147554  NaN\n",
       "                  2014   8.076540  57.616055  115.317362  NaN\n",
       "\n",
       "[104 rows x 4 columns]"
      ],
      "text/html": "<div>\n<style scoped>\n    .dataframe tbody tr th:only-of-type {\n        vertical-align: middle;\n    }\n\n    .dataframe tbody tr th {\n        vertical-align: top;\n    }\n\n    .dataframe thead th {\n        text-align: right;\n    }\n</style>\n<table border=\"1\" class=\"dataframe\">\n  <thead>\n    <tr style=\"text-align: right;\">\n      <th></th>\n      <th></th>\n      <th>so2</th>\n      <th>no2</th>\n      <th>rspm</th>\n      <th>spm</th>\n    </tr>\n    <tr>\n      <th>state</th>\n      <th>date</th>\n      <th></th>\n      <th></th>\n      <th></th>\n      <th></th>\n    </tr>\n  </thead>\n  <tbody>\n    <tr>\n      <th rowspan=\"4\" valign=\"top\">Andhra Pradesh</th>\n      <th>2010</th>\n      <td>5.365275</td>\n      <td>15.397188</td>\n      <td>69.487281</td>\n      <td>NaN</td>\n    </tr>\n    <tr>\n      <th>2012</th>\n      <td>7.438174</td>\n      <td>15.762852</td>\n      <td>77.661990</td>\n      <td>NaN</td>\n    </tr>\n    <tr>\n      <th>2013</th>\n      <td>7.379130</td>\n      <td>17.400199</td>\n      <td>76.647496</td>\n      <td>NaN</td>\n    </tr>\n    <tr>\n      <th>2014</th>\n      <td>8.658371</td>\n      <td>18.582353</td>\n      <td>74.896863</td>\n      <td>NaN</td>\n    </tr>\n    <tr>\n      <th>Arunachal Pradesh</th>\n      <th>2014</th>\n      <td>2.000000</td>\n      <td>5.000000</td>\n      <td>69.400000</td>\n      <td>NaN</td>\n    </tr>\n    <tr>\n      <th>...</th>\n      <th>...</th>\n      <td>...</td>\n      <td>...</td>\n      <td>...</td>\n      <td>...</td>\n    </tr>\n    <tr>\n      <th rowspan=\"2\" valign=\"top\">Uttarakhand</th>\n      <th>2012</th>\n      <td>26.546667</td>\n      <td>29.173333</td>\n      <td>180.415855</td>\n      <td>NaN</td>\n    </tr>\n    <tr>\n      <th>2013</th>\n      <td>23.455026</td>\n      <td>25.785714</td>\n      <td>141.844615</td>\n      <td>NaN</td>\n    </tr>\n    <tr>\n      <th rowspan=\"3\" valign=\"top\">West Bengal</th>\n      <th>2011</th>\n      <td>17.134927</td>\n      <td>56.929974</td>\n      <td>117.222886</td>\n      <td>NaN</td>\n    </tr>\n    <tr>\n      <th>2012</th>\n      <td>41.414067</td>\n      <td>54.673853</td>\n      <td>106.147554</td>\n      <td>NaN</td>\n    </tr>\n    <tr>\n      <th>2014</th>\n      <td>8.076540</td>\n      <td>57.616055</td>\n      <td>115.317362</td>\n      <td>NaN</td>\n    </tr>\n  </tbody>\n</table>\n<p>104 rows × 4 columns</p>\n</div>"
     },
     "metadata": {},
     "execution_count": 302
    }
   ],
   "source": [
    "# Get rows that have null values for spm\n",
    "df[df['spm'].isnull()]\n",
    "# df[df.isnull().any(axis=1)]"
   ]
  },
  {
   "cell_type": "code",
   "execution_count": 303,
   "metadata": {},
   "outputs": [
    {
     "output_type": "execute_result",
     "data": {
      "text/plain": [
       "Empty DataFrame\n",
       "Columns: [so2, no2, rspm, spm]\n",
       "Index: []"
      ],
      "text/html": "<div>\n<style scoped>\n    .dataframe tbody tr th:only-of-type {\n        vertical-align: middle;\n    }\n\n    .dataframe tbody tr th {\n        vertical-align: top;\n    }\n\n    .dataframe thead th {\n        text-align: right;\n    }\n</style>\n<table border=\"1\" class=\"dataframe\">\n  <thead>\n    <tr style=\"text-align: right;\">\n      <th></th>\n      <th></th>\n      <th>so2</th>\n      <th>no2</th>\n      <th>rspm</th>\n      <th>spm</th>\n    </tr>\n    <tr>\n      <th>state</th>\n      <th>date</th>\n      <th></th>\n      <th></th>\n      <th></th>\n      <th></th>\n    </tr>\n  </thead>\n  <tbody>\n  </tbody>\n</table>\n</div>"
     },
     "metadata": {},
     "execution_count": 303
    }
   ],
   "source": [
    "# Get rows that have non numeric values\n",
    "import numpy as np\n",
    "df[~df.iloc[:, 1:].applymap(np.isreal).all(1)]"
   ]
  },
  {
   "cell_type": "code",
   "execution_count": null,
   "metadata": {},
   "outputs": [],
   "source": []
  }
 ]
}

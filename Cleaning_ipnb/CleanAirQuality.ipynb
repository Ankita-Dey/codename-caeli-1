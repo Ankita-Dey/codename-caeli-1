{
 "metadata": {
  "language_info": {
   "codemirror_mode": {
    "name": "ipython",
    "version": 3
   },
   "file_extension": ".py",
   "mimetype": "text/x-python",
   "name": "python",
   "nbconvert_exporter": "python",
   "pygments_lexer": "ipython3",
   "version": "3.7.9-final"
  },
  "orig_nbformat": 2,
  "kernelspec": {
   "name": "Python 3.7.9 64-bit ('myenv': conda)",
   "display_name": "Python 3.7.9 64-bit ('myenv': conda)",
   "metadata": {
    "interpreter": {
     "hash": "b8c1dc0667d957209bd208daa667676ada033b9f1c9f74f83f0de44230d4154a"
    }
   }
  }
 },
 "nbformat": 4,
 "nbformat_minor": 2,
 "cells": [
  {
   "cell_type": "code",
   "execution_count": 69,
   "metadata": {},
   "outputs": [],
   "source": [
    "inputfile = 'AirQualityData.csv'"
   ]
  },
  {
   "cell_type": "code",
   "execution_count": 70,
   "metadata": {},
   "outputs": [],
   "source": [
    "import pandas as pd\n",
    "import numpy as np"
   ]
  },
  {
   "cell_type": "code",
   "execution_count": 71,
   "metadata": {},
   "outputs": [],
   "source": [
    "df = pd.read_csv(inputfile, encoding = \"ISO-8859-1\")"
   ]
  },
  {
   "cell_type": "code",
   "execution_count": 72,
   "metadata": {},
   "outputs": [
    {
     "output_type": "execute_result",
     "data": {
      "text/plain": [
       "array(['stn_code', 'sampling_date', 'state', 'location', 'agency', 'type',\n",
       "       'so2', 'no2', 'rspm', 'spm', 'location_monitoring_station',\n",
       "       'pm2_5', 'date'], dtype=object)"
      ]
     },
     "metadata": {},
     "execution_count": 72
    }
   ],
   "source": [
    "df.columns.values"
   ]
  },
  {
   "cell_type": "code",
   "execution_count": 73,
   "metadata": {},
   "outputs": [],
   "source": [
    "df = df.drop(['stn_code', 'sampling_date', 'agency', 'type', 'location_monitoring_station','pm2_5'], axis = 1)"
   ]
  },
  {
   "cell_type": "code",
   "execution_count": 74,
   "metadata": {},
   "outputs": [],
   "source": [
    "years = ['2001','2002','2003','2004','2005','2006','2007','2008','2009','2010','2011','2012','2013','2014']\n",
    "df = df[df[\"date\"].str.contains('|'.join(years), na=False)]"
   ]
  },
  {
   "cell_type": "code",
   "execution_count": 57,
   "metadata": {},
   "outputs": [],
   "source": [
    "df.loc[:, 'date'] = df['date'].str.split('-', expand=True)[0]"
   ]
  },
  {
   "cell_type": "code",
   "execution_count": 58,
   "metadata": {},
   "outputs": [],
   "source": [
    "# To check next output\n",
    "# df.loc[(df['date'] == '2014') & (df['state'] == 'West Bengal')].mean()"
   ]
  },
  {
   "cell_type": "code",
   "execution_count": 59,
   "metadata": {},
   "outputs": [],
   "source": [
    "df = df.groupby(['state','date']).mean()"
   ]
  },
  {
   "cell_type": "code",
   "execution_count": 60,
   "metadata": {},
   "outputs": [],
   "source": [
    "#INSERT CODE TO MERGE ANDHRA PRADESH AND TELANGANA DATA"
   ]
  },
  {
   "cell_type": "code",
   "execution_count": 61,
   "metadata": {},
   "outputs": [],
   "source": [
    "df.to_csv(\"AirQualityData-Clean.csv\")"
   ]
  },
  {
   "cell_type": "code",
   "execution_count": 62,
   "metadata": {},
   "outputs": [
    {
     "output_type": "execute_result",
     "data": {
      "text/plain": [
       "so2       6\n",
       "no2       4\n",
       "rspm     49\n",
       "spm     110\n",
       "dtype: int64"
      ]
     },
     "metadata": {},
     "execution_count": 62
    }
   ],
   "source": [
    "# Get number of rows that have null values\n",
    "df.isnull().sum()"
   ]
  },
  {
   "cell_type": "code",
   "execution_count": 63,
   "metadata": {},
   "outputs": [
    {
     "output_type": "execute_result",
     "data": {
      "text/plain": [
       "                 so2        no2        rspm         spm\n",
       "state      date                                        \n",
       "Chandigarh 2001  NaN        NaN         NaN  247.083333\n",
       "Delhi      2004  NaN        NaN  135.199436  340.091358\n",
       "Mizoram    2005  NaN        NaN   27.856287   93.586826\n",
       "           2008  NaN   7.246286   37.304207   80.275081\n",
       "Nagaland   2003  NaN        NaN   74.418079  137.514124\n",
       "           2005  NaN  14.760000   79.764706  154.161765"
      ],
      "text/html": "<div>\n<style scoped>\n    .dataframe tbody tr th:only-of-type {\n        vertical-align: middle;\n    }\n\n    .dataframe tbody tr th {\n        vertical-align: top;\n    }\n\n    .dataframe thead th {\n        text-align: right;\n    }\n</style>\n<table border=\"1\" class=\"dataframe\">\n  <thead>\n    <tr style=\"text-align: right;\">\n      <th></th>\n      <th></th>\n      <th>so2</th>\n      <th>no2</th>\n      <th>rspm</th>\n      <th>spm</th>\n    </tr>\n    <tr>\n      <th>state</th>\n      <th>date</th>\n      <th></th>\n      <th></th>\n      <th></th>\n      <th></th>\n    </tr>\n  </thead>\n  <tbody>\n    <tr>\n      <th>Chandigarh</th>\n      <th>2001</th>\n      <td>NaN</td>\n      <td>NaN</td>\n      <td>NaN</td>\n      <td>247.083333</td>\n    </tr>\n    <tr>\n      <th>Delhi</th>\n      <th>2004</th>\n      <td>NaN</td>\n      <td>NaN</td>\n      <td>135.199436</td>\n      <td>340.091358</td>\n    </tr>\n    <tr>\n      <th rowspan=\"2\" valign=\"top\">Mizoram</th>\n      <th>2005</th>\n      <td>NaN</td>\n      <td>NaN</td>\n      <td>27.856287</td>\n      <td>93.586826</td>\n    </tr>\n    <tr>\n      <th>2008</th>\n      <td>NaN</td>\n      <td>7.246286</td>\n      <td>37.304207</td>\n      <td>80.275081</td>\n    </tr>\n    <tr>\n      <th rowspan=\"2\" valign=\"top\">Nagaland</th>\n      <th>2003</th>\n      <td>NaN</td>\n      <td>NaN</td>\n      <td>74.418079</td>\n      <td>137.514124</td>\n    </tr>\n    <tr>\n      <th>2005</th>\n      <td>NaN</td>\n      <td>14.760000</td>\n      <td>79.764706</td>\n      <td>154.161765</td>\n    </tr>\n  </tbody>\n</table>\n</div>"
     },
     "metadata": {},
     "execution_count": 63
    }
   ],
   "source": [
    "# Get rows that have null values for so2\n",
    "df[df['so2'].isnull()]"
   ]
  },
  {
   "cell_type": "code",
   "execution_count": 64,
   "metadata": {},
   "outputs": [
    {
     "output_type": "execute_result",
     "data": {
      "text/plain": [
       "                                 so2        no2  rspm         spm\n",
       "state                date                                        \n",
       "Andhra Pradesh       2001  12.000952  27.105714   NaN  142.790476\n",
       "                     2002   7.506667  24.976190   NaN   85.866667\n",
       "Assam                2001   3.708333  19.575000   NaN  172.000000\n",
       "                     2002   3.141667  18.700000   NaN  168.833333\n",
       "Bihar                2001  23.372840  35.648148   NaN  297.086420\n",
       "                     2002  24.355072  43.291304   NaN  260.438356\n",
       "Chandigarh           2001        NaN        NaN   NaN  247.083333\n",
       "                     2002   8.005000   9.200000   NaN  296.375000\n",
       "Chhattisgarh         2001  12.612500  20.237500   NaN   81.583333\n",
       "                     2002  12.657143  19.328571   NaN   93.636364\n",
       "Dadra & Nagar Haveli 2012   7.618667  20.181333   NaN         NaN\n",
       "Daman & Diu          2012   7.628947  20.147368   NaN         NaN\n",
       "Delhi                2001  12.912121  39.014141   NaN  363.876289\n",
       "                     2002  10.950000  36.976087   NaN  338.860215\n",
       "Goa                  2001  46.027273  32.945455   NaN         NaN\n",
       "                     2002  28.200000  37.775000   NaN         NaN\n",
       "Gujarat              2001  11.536170  31.220690   NaN  358.527778\n",
       "                     2002  13.935338  28.230075   NaN  244.009174\n",
       "Haryana              2001  22.850000  14.111111   NaN  313.166667\n",
       "                     2002  18.280556  23.369444   NaN  431.166667\n",
       "Himachal Pradesh     2001   3.209375  12.777083   NaN         NaN\n",
       "                     2002   3.508333  14.620833   NaN  156.563380\n",
       "                     2004   3.474003  12.746127   NaN  188.241739\n",
       "Karnataka            2001  20.819643  25.873214   NaN  133.340000\n",
       "                     2002  16.071667  26.228333   NaN   70.966667\n",
       "Kerala               2001   9.977640  14.643478   NaN  163.148515\n",
       "                     2002   9.098171  10.251220   NaN  125.580952\n",
       "Madhya Pradesh       2001  19.088079  26.062914   NaN  157.500000\n",
       "                     2002  13.617647  24.279085   NaN  218.392857\n",
       "Maharashtra          2001  20.128346  32.508661   NaN  222.697248\n",
       "                     2002  18.375281  29.810861   NaN  219.542453\n",
       "                     2003   5.903475  18.723077   NaN  183.807229\n",
       "Meghalaya            2001   3.868182   8.504545   NaN   75.791667\n",
       "                     2002   3.940000   9.515000   NaN   86.250000\n",
       "Odisha               2001   9.106250  21.247500   NaN  158.107143\n",
       "                     2002  10.630488  16.450000   NaN  145.902439\n",
       "Puducherry           2001  13.816000  18.595833   NaN   81.117647\n",
       "                     2002  16.665714  12.662857   NaN   12.382353\n",
       "Punjab               2001  14.813542  30.047917   NaN  259.483333\n",
       "                     2002  11.684375  29.170312   NaN  238.125000\n",
       "Rajasthan            2001  11.015942  38.032984   NaN  288.511962\n",
       "                     2002  10.776168  33.369626   NaN   77.098131\n",
       "                     2003  10.350694  14.472222   NaN  347.902778\n",
       "Tamil Nadu           2001  11.220492  24.051429   NaN   95.192857\n",
       "                     2002  13.558696  25.904813   NaN   62.728723\n",
       "Uttar Pradesh        2001  23.765865  25.665865   NaN  343.046025\n",
       "                     2002  17.515761  23.469730   NaN  323.590244\n",
       "West Bengal          2001  14.482796  62.319355   NaN  196.336957\n",
       "                     2002  10.247917  63.793750   NaN  163.802083"
      ],
      "text/html": "<div>\n<style scoped>\n    .dataframe tbody tr th:only-of-type {\n        vertical-align: middle;\n    }\n\n    .dataframe tbody tr th {\n        vertical-align: top;\n    }\n\n    .dataframe thead th {\n        text-align: right;\n    }\n</style>\n<table border=\"1\" class=\"dataframe\">\n  <thead>\n    <tr style=\"text-align: right;\">\n      <th></th>\n      <th></th>\n      <th>so2</th>\n      <th>no2</th>\n      <th>rspm</th>\n      <th>spm</th>\n    </tr>\n    <tr>\n      <th>state</th>\n      <th>date</th>\n      <th></th>\n      <th></th>\n      <th></th>\n      <th></th>\n    </tr>\n  </thead>\n  <tbody>\n    <tr>\n      <th rowspan=\"2\" valign=\"top\">Andhra Pradesh</th>\n      <th>2001</th>\n      <td>12.000952</td>\n      <td>27.105714</td>\n      <td>NaN</td>\n      <td>142.790476</td>\n    </tr>\n    <tr>\n      <th>2002</th>\n      <td>7.506667</td>\n      <td>24.976190</td>\n      <td>NaN</td>\n      <td>85.866667</td>\n    </tr>\n    <tr>\n      <th rowspan=\"2\" valign=\"top\">Assam</th>\n      <th>2001</th>\n      <td>3.708333</td>\n      <td>19.575000</td>\n      <td>NaN</td>\n      <td>172.000000</td>\n    </tr>\n    <tr>\n      <th>2002</th>\n      <td>3.141667</td>\n      <td>18.700000</td>\n      <td>NaN</td>\n      <td>168.833333</td>\n    </tr>\n    <tr>\n      <th rowspan=\"2\" valign=\"top\">Bihar</th>\n      <th>2001</th>\n      <td>23.372840</td>\n      <td>35.648148</td>\n      <td>NaN</td>\n      <td>297.086420</td>\n    </tr>\n    <tr>\n      <th>2002</th>\n      <td>24.355072</td>\n      <td>43.291304</td>\n      <td>NaN</td>\n      <td>260.438356</td>\n    </tr>\n    <tr>\n      <th rowspan=\"2\" valign=\"top\">Chandigarh</th>\n      <th>2001</th>\n      <td>NaN</td>\n      <td>NaN</td>\n      <td>NaN</td>\n      <td>247.083333</td>\n    </tr>\n    <tr>\n      <th>2002</th>\n      <td>8.005000</td>\n      <td>9.200000</td>\n      <td>NaN</td>\n      <td>296.375000</td>\n    </tr>\n    <tr>\n      <th rowspan=\"2\" valign=\"top\">Chhattisgarh</th>\n      <th>2001</th>\n      <td>12.612500</td>\n      <td>20.237500</td>\n      <td>NaN</td>\n      <td>81.583333</td>\n    </tr>\n    <tr>\n      <th>2002</th>\n      <td>12.657143</td>\n      <td>19.328571</td>\n      <td>NaN</td>\n      <td>93.636364</td>\n    </tr>\n    <tr>\n      <th>Dadra &amp; Nagar Haveli</th>\n      <th>2012</th>\n      <td>7.618667</td>\n      <td>20.181333</td>\n      <td>NaN</td>\n      <td>NaN</td>\n    </tr>\n    <tr>\n      <th>Daman &amp; Diu</th>\n      <th>2012</th>\n      <td>7.628947</td>\n      <td>20.147368</td>\n      <td>NaN</td>\n      <td>NaN</td>\n    </tr>\n    <tr>\n      <th rowspan=\"2\" valign=\"top\">Delhi</th>\n      <th>2001</th>\n      <td>12.912121</td>\n      <td>39.014141</td>\n      <td>NaN</td>\n      <td>363.876289</td>\n    </tr>\n    <tr>\n      <th>2002</th>\n      <td>10.950000</td>\n      <td>36.976087</td>\n      <td>NaN</td>\n      <td>338.860215</td>\n    </tr>\n    <tr>\n      <th rowspan=\"2\" valign=\"top\">Goa</th>\n      <th>2001</th>\n      <td>46.027273</td>\n      <td>32.945455</td>\n      <td>NaN</td>\n      <td>NaN</td>\n    </tr>\n    <tr>\n      <th>2002</th>\n      <td>28.200000</td>\n      <td>37.775000</td>\n      <td>NaN</td>\n      <td>NaN</td>\n    </tr>\n    <tr>\n      <th rowspan=\"2\" valign=\"top\">Gujarat</th>\n      <th>2001</th>\n      <td>11.536170</td>\n      <td>31.220690</td>\n      <td>NaN</td>\n      <td>358.527778</td>\n    </tr>\n    <tr>\n      <th>2002</th>\n      <td>13.935338</td>\n      <td>28.230075</td>\n      <td>NaN</td>\n      <td>244.009174</td>\n    </tr>\n    <tr>\n      <th rowspan=\"2\" valign=\"top\">Haryana</th>\n      <th>2001</th>\n      <td>22.850000</td>\n      <td>14.111111</td>\n      <td>NaN</td>\n      <td>313.166667</td>\n    </tr>\n    <tr>\n      <th>2002</th>\n      <td>18.280556</td>\n      <td>23.369444</td>\n      <td>NaN</td>\n      <td>431.166667</td>\n    </tr>\n    <tr>\n      <th rowspan=\"3\" valign=\"top\">Himachal Pradesh</th>\n      <th>2001</th>\n      <td>3.209375</td>\n      <td>12.777083</td>\n      <td>NaN</td>\n      <td>NaN</td>\n    </tr>\n    <tr>\n      <th>2002</th>\n      <td>3.508333</td>\n      <td>14.620833</td>\n      <td>NaN</td>\n      <td>156.563380</td>\n    </tr>\n    <tr>\n      <th>2004</th>\n      <td>3.474003</td>\n      <td>12.746127</td>\n      <td>NaN</td>\n      <td>188.241739</td>\n    </tr>\n    <tr>\n      <th rowspan=\"2\" valign=\"top\">Karnataka</th>\n      <th>2001</th>\n      <td>20.819643</td>\n      <td>25.873214</td>\n      <td>NaN</td>\n      <td>133.340000</td>\n    </tr>\n    <tr>\n      <th>2002</th>\n      <td>16.071667</td>\n      <td>26.228333</td>\n      <td>NaN</td>\n      <td>70.966667</td>\n    </tr>\n    <tr>\n      <th rowspan=\"2\" valign=\"top\">Kerala</th>\n      <th>2001</th>\n      <td>9.977640</td>\n      <td>14.643478</td>\n      <td>NaN</td>\n      <td>163.148515</td>\n    </tr>\n    <tr>\n      <th>2002</th>\n      <td>9.098171</td>\n      <td>10.251220</td>\n      <td>NaN</td>\n      <td>125.580952</td>\n    </tr>\n    <tr>\n      <th rowspan=\"2\" valign=\"top\">Madhya Pradesh</th>\n      <th>2001</th>\n      <td>19.088079</td>\n      <td>26.062914</td>\n      <td>NaN</td>\n      <td>157.500000</td>\n    </tr>\n    <tr>\n      <th>2002</th>\n      <td>13.617647</td>\n      <td>24.279085</td>\n      <td>NaN</td>\n      <td>218.392857</td>\n    </tr>\n    <tr>\n      <th rowspan=\"3\" valign=\"top\">Maharashtra</th>\n      <th>2001</th>\n      <td>20.128346</td>\n      <td>32.508661</td>\n      <td>NaN</td>\n      <td>222.697248</td>\n    </tr>\n    <tr>\n      <th>2002</th>\n      <td>18.375281</td>\n      <td>29.810861</td>\n      <td>NaN</td>\n      <td>219.542453</td>\n    </tr>\n    <tr>\n      <th>2003</th>\n      <td>5.903475</td>\n      <td>18.723077</td>\n      <td>NaN</td>\n      <td>183.807229</td>\n    </tr>\n    <tr>\n      <th rowspan=\"2\" valign=\"top\">Meghalaya</th>\n      <th>2001</th>\n      <td>3.868182</td>\n      <td>8.504545</td>\n      <td>NaN</td>\n      <td>75.791667</td>\n    </tr>\n    <tr>\n      <th>2002</th>\n      <td>3.940000</td>\n      <td>9.515000</td>\n      <td>NaN</td>\n      <td>86.250000</td>\n    </tr>\n    <tr>\n      <th rowspan=\"2\" valign=\"top\">Odisha</th>\n      <th>2001</th>\n      <td>9.106250</td>\n      <td>21.247500</td>\n      <td>NaN</td>\n      <td>158.107143</td>\n    </tr>\n    <tr>\n      <th>2002</th>\n      <td>10.630488</td>\n      <td>16.450000</td>\n      <td>NaN</td>\n      <td>145.902439</td>\n    </tr>\n    <tr>\n      <th rowspan=\"2\" valign=\"top\">Puducherry</th>\n      <th>2001</th>\n      <td>13.816000</td>\n      <td>18.595833</td>\n      <td>NaN</td>\n      <td>81.117647</td>\n    </tr>\n    <tr>\n      <th>2002</th>\n      <td>16.665714</td>\n      <td>12.662857</td>\n      <td>NaN</td>\n      <td>12.382353</td>\n    </tr>\n    <tr>\n      <th rowspan=\"2\" valign=\"top\">Punjab</th>\n      <th>2001</th>\n      <td>14.813542</td>\n      <td>30.047917</td>\n      <td>NaN</td>\n      <td>259.483333</td>\n    </tr>\n    <tr>\n      <th>2002</th>\n      <td>11.684375</td>\n      <td>29.170312</td>\n      <td>NaN</td>\n      <td>238.125000</td>\n    </tr>\n    <tr>\n      <th rowspan=\"3\" valign=\"top\">Rajasthan</th>\n      <th>2001</th>\n      <td>11.015942</td>\n      <td>38.032984</td>\n      <td>NaN</td>\n      <td>288.511962</td>\n    </tr>\n    <tr>\n      <th>2002</th>\n      <td>10.776168</td>\n      <td>33.369626</td>\n      <td>NaN</td>\n      <td>77.098131</td>\n    </tr>\n    <tr>\n      <th>2003</th>\n      <td>10.350694</td>\n      <td>14.472222</td>\n      <td>NaN</td>\n      <td>347.902778</td>\n    </tr>\n    <tr>\n      <th rowspan=\"2\" valign=\"top\">Tamil Nadu</th>\n      <th>2001</th>\n      <td>11.220492</td>\n      <td>24.051429</td>\n      <td>NaN</td>\n      <td>95.192857</td>\n    </tr>\n    <tr>\n      <th>2002</th>\n      <td>13.558696</td>\n      <td>25.904813</td>\n      <td>NaN</td>\n      <td>62.728723</td>\n    </tr>\n    <tr>\n      <th rowspan=\"2\" valign=\"top\">Uttar Pradesh</th>\n      <th>2001</th>\n      <td>23.765865</td>\n      <td>25.665865</td>\n      <td>NaN</td>\n      <td>343.046025</td>\n    </tr>\n    <tr>\n      <th>2002</th>\n      <td>17.515761</td>\n      <td>23.469730</td>\n      <td>NaN</td>\n      <td>323.590244</td>\n    </tr>\n    <tr>\n      <th rowspan=\"2\" valign=\"top\">West Bengal</th>\n      <th>2001</th>\n      <td>14.482796</td>\n      <td>62.319355</td>\n      <td>NaN</td>\n      <td>196.336957</td>\n    </tr>\n    <tr>\n      <th>2002</th>\n      <td>10.247917</td>\n      <td>63.793750</td>\n      <td>NaN</td>\n      <td>163.802083</td>\n    </tr>\n  </tbody>\n</table>\n</div>"
     },
     "metadata": {},
     "execution_count": 64
    }
   ],
   "source": [
    "# Get rows that have null values for rspm\n",
    "df[df['rspm'].isnull()]"
   ]
  },
  {
   "cell_type": "code",
   "execution_count": 65,
   "metadata": {},
   "outputs": [
    {
     "output_type": "execute_result",
     "data": {
      "text/plain": [
       "                              so2        no2        rspm  spm\n",
       "state             date                                       \n",
       "Andhra Pradesh    2010   5.365275  15.397188   69.487281  NaN\n",
       "                  2012   7.438174  15.762852   77.661990  NaN\n",
       "                  2013   7.379130  17.400199   76.647496  NaN\n",
       "                  2014   8.658371  18.582353   74.896863  NaN\n",
       "Arunachal Pradesh 2014   2.000000   5.000000   69.400000  NaN\n",
       "...                           ...        ...         ...  ...\n",
       "Uttarakhand       2012  26.546667  29.173333  180.415855  NaN\n",
       "                  2013  23.455026  25.785714  141.844615  NaN\n",
       "West Bengal       2011  17.134927  56.929974  117.222886  NaN\n",
       "                  2012  41.414067  54.673853  106.147554  NaN\n",
       "                  2014   8.076540  57.616055  115.317362  NaN\n",
       "\n",
       "[110 rows x 4 columns]"
      ],
      "text/html": "<div>\n<style scoped>\n    .dataframe tbody tr th:only-of-type {\n        vertical-align: middle;\n    }\n\n    .dataframe tbody tr th {\n        vertical-align: top;\n    }\n\n    .dataframe thead th {\n        text-align: right;\n    }\n</style>\n<table border=\"1\" class=\"dataframe\">\n  <thead>\n    <tr style=\"text-align: right;\">\n      <th></th>\n      <th></th>\n      <th>so2</th>\n      <th>no2</th>\n      <th>rspm</th>\n      <th>spm</th>\n    </tr>\n    <tr>\n      <th>state</th>\n      <th>date</th>\n      <th></th>\n      <th></th>\n      <th></th>\n      <th></th>\n    </tr>\n  </thead>\n  <tbody>\n    <tr>\n      <th rowspan=\"4\" valign=\"top\">Andhra Pradesh</th>\n      <th>2010</th>\n      <td>5.365275</td>\n      <td>15.397188</td>\n      <td>69.487281</td>\n      <td>NaN</td>\n    </tr>\n    <tr>\n      <th>2012</th>\n      <td>7.438174</td>\n      <td>15.762852</td>\n      <td>77.661990</td>\n      <td>NaN</td>\n    </tr>\n    <tr>\n      <th>2013</th>\n      <td>7.379130</td>\n      <td>17.400199</td>\n      <td>76.647496</td>\n      <td>NaN</td>\n    </tr>\n    <tr>\n      <th>2014</th>\n      <td>8.658371</td>\n      <td>18.582353</td>\n      <td>74.896863</td>\n      <td>NaN</td>\n    </tr>\n    <tr>\n      <th>Arunachal Pradesh</th>\n      <th>2014</th>\n      <td>2.000000</td>\n      <td>5.000000</td>\n      <td>69.400000</td>\n      <td>NaN</td>\n    </tr>\n    <tr>\n      <th>...</th>\n      <th>...</th>\n      <td>...</td>\n      <td>...</td>\n      <td>...</td>\n      <td>...</td>\n    </tr>\n    <tr>\n      <th rowspan=\"2\" valign=\"top\">Uttarakhand</th>\n      <th>2012</th>\n      <td>26.546667</td>\n      <td>29.173333</td>\n      <td>180.415855</td>\n      <td>NaN</td>\n    </tr>\n    <tr>\n      <th>2013</th>\n      <td>23.455026</td>\n      <td>25.785714</td>\n      <td>141.844615</td>\n      <td>NaN</td>\n    </tr>\n    <tr>\n      <th rowspan=\"3\" valign=\"top\">West Bengal</th>\n      <th>2011</th>\n      <td>17.134927</td>\n      <td>56.929974</td>\n      <td>117.222886</td>\n      <td>NaN</td>\n    </tr>\n    <tr>\n      <th>2012</th>\n      <td>41.414067</td>\n      <td>54.673853</td>\n      <td>106.147554</td>\n      <td>NaN</td>\n    </tr>\n    <tr>\n      <th>2014</th>\n      <td>8.076540</td>\n      <td>57.616055</td>\n      <td>115.317362</td>\n      <td>NaN</td>\n    </tr>\n  </tbody>\n</table>\n<p>110 rows × 4 columns</p>\n</div>"
     },
     "metadata": {},
     "execution_count": 65
    }
   ],
   "source": [
    "# Get rows that have null values for spm\n",
    "df[df['spm'].isnull()]\n",
    "# df[df.isnull().any(axis=1)]"
   ]
  },
  {
   "cell_type": "code",
   "execution_count": 66,
   "metadata": {},
   "outputs": [
    {
     "output_type": "execute_result",
     "data": {
      "text/plain": [
       "Empty DataFrame\n",
       "Columns: [so2, no2, rspm, spm]\n",
       "Index: []"
      ],
      "text/html": "<div>\n<style scoped>\n    .dataframe tbody tr th:only-of-type {\n        vertical-align: middle;\n    }\n\n    .dataframe tbody tr th {\n        vertical-align: top;\n    }\n\n    .dataframe thead th {\n        text-align: right;\n    }\n</style>\n<table border=\"1\" class=\"dataframe\">\n  <thead>\n    <tr style=\"text-align: right;\">\n      <th></th>\n      <th></th>\n      <th>so2</th>\n      <th>no2</th>\n      <th>rspm</th>\n      <th>spm</th>\n    </tr>\n    <tr>\n      <th>state</th>\n      <th>date</th>\n      <th></th>\n      <th></th>\n      <th></th>\n      <th></th>\n    </tr>\n  </thead>\n  <tbody>\n  </tbody>\n</table>\n</div>"
     },
     "metadata": {},
     "execution_count": 66
    }
   ],
   "source": [
    "# Get rows that have non numeric values\n",
    "import numpy as np\n",
    "df[~df.iloc[:, 1:].applymap(np.isreal).all(1)]"
   ]
  },
  {
   "cell_type": "code",
   "execution_count": 67,
   "metadata": {},
   "outputs": [],
   "source": [
    "s=set()\n",
    "for i in df.index:\n",
    "    s.add(i[0])"
   ]
  },
  {
   "cell_type": "code",
   "execution_count": 68,
   "metadata": {},
   "outputs": [
    {
     "output_type": "execute_result",
     "data": {
      "text/plain": [
       "{'Andaman & Nicobar Islands', 'Lakshadweep', 'Tripura'}"
      ]
     },
     "metadata": {},
     "execution_count": 68
    }
   ],
   "source": [
    "set(['Andhra Pradesh', 'Arunachal Pradesh', 'Assam', 'Bihar', 'Chhattisgarh',\n",
    "       'Goa', 'Gujarat', 'Haryana', 'Himachal Pradesh', 'Jammu & Kashmir',\n",
    "       'Jharkhand', 'Karnataka', 'Kerala', 'Madhya Pradesh', 'Maharashtra',\n",
    "       'Manipur', 'Meghalaya', 'Mizoram', 'Nagaland', 'Odisha', 'Punjab',\n",
    "       'Rajasthan', 'Sikkim', 'Tamil Nadu', 'Tripura', 'Uttarakhand',\n",
    "       'Uttar Pradesh', 'West Bengal', 'Andaman & Nicobar Islands',\n",
    "       'Chandigarh', 'Dadra & Nagar Haveli', 'Daman & Diu', 'Delhi',\n",
    "       'Lakshadweep', 'Puducherry'])-s"
   ]
  },
  {
   "cell_type": "code",
   "execution_count": null,
   "metadata": {},
   "outputs": [],
   "source": []
  }
 ]
}
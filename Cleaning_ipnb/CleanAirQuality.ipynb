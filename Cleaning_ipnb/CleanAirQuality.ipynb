{
 "metadata": {
  "language_info": {
   "codemirror_mode": {
    "name": "ipython",
    "version": 3
   },
   "file_extension": ".py",
   "mimetype": "text/x-python",
   "name": "python",
   "nbconvert_exporter": "python",
   "pygments_lexer": "ipython3",
   "version": "3.7.9-final"
  },
  "orig_nbformat": 2,
  "kernelspec": {
   "name": "Python 3.7.9 64-bit ('myenv': conda)",
   "display_name": "Python 3.7.9 64-bit ('myenv': conda)",
   "metadata": {
    "interpreter": {
     "hash": "b8c1dc0667d957209bd208daa667676ada033b9f1c9f74f83f0de44230d4154a"
    }
   }
  }
 },
 "nbformat": 4,
 "nbformat_minor": 2,
 "cells": [
  {
   "cell_type": "code",
   "execution_count": 1,
   "metadata": {},
   "outputs": [],
   "source": [
    "inputfile = 'AirQualityData.csv'"
   ]
  },
  {
   "cell_type": "code",
   "execution_count": 2,
   "metadata": {},
   "outputs": [],
   "source": [
    "import pandas as pd\n",
    "import numpy as np"
   ]
  },
  {
   "cell_type": "code",
   "execution_count": 3,
   "metadata": {},
   "outputs": [],
   "source": [
    "df = pd.read_csv(inputfile, encoding = \"ISO-8859-1\")"
   ]
  },
  {
   "cell_type": "code",
   "execution_count": 4,
   "metadata": {},
   "outputs": [
    {
     "output_type": "execute_result",
     "data": {
      "text/plain": [
       "array(['stn_code', 'sampling_date', 'state', 'location', 'agency', 'type',\n",
       "       'so2', 'no2', 'rspm', 'spm', 'location_monitoring_station',\n",
       "       'pm2_5', 'date'], dtype=object)"
      ]
     },
     "metadata": {},
     "execution_count": 4
    }
   ],
   "source": [
    "df.columns.values"
   ]
  },
  {
   "cell_type": "code",
   "execution_count": 5,
   "metadata": {},
   "outputs": [],
   "source": [
    "df = df.drop(['stn_code', 'sampling_date', 'agency', 'type', 'location_monitoring_station','pm2_5', 'spm'], axis = 1)"
   ]
  },
  {
   "cell_type": "code",
   "execution_count": 6,
   "metadata": {},
   "outputs": [],
   "source": [
    "years = ['2005','2006','2007','2008','2009','2010','2011','2012','2013','2014']\n",
    "df = df[df[\"date\"].str.contains('|'.join(years), na=False)]"
   ]
  },
  {
   "cell_type": "code",
   "execution_count": 7,
   "metadata": {},
   "outputs": [],
   "source": [
    "df.loc[:, 'date'] = df['date'].str.split('-', expand=True)[0]"
   ]
  },
  {
   "cell_type": "code",
   "execution_count": 8,
   "metadata": {},
   "outputs": [],
   "source": [
    "df['state'] = df['state'].replace(['Uttaranchal'],'Uttarakhand')"
   ]
  },
  {
   "cell_type": "code",
   "execution_count": 9,
   "metadata": {},
   "outputs": [],
   "source": [
    "states = list(set(df['state']))"
   ]
  },
  {
   "cell_type": "code",
   "execution_count": 10,
   "metadata": {},
   "outputs": [],
   "source": [
    "# To check next output\n",
    "# df.loc[(df['date'] == '2014') & (df['state'] == 'West Bengal')].mean()"
   ]
  },
  {
   "cell_type": "code",
   "execution_count": 11,
   "metadata": {},
   "outputs": [],
   "source": [
    "df = df.groupby(['state','date']).mean()"
   ]
  },
  {
   "cell_type": "code",
   "execution_count": 12,
   "metadata": {},
   "outputs": [],
   "source": [
    "#MERGE ANDHRA PRADESH AND TELANGANA DATA AND DELETE TELANGANA DATA\n",
    "df.loc[('Telangana', '2014')] = df.loc[[('Andhra Pradesh', '2014'), ('Telangana', '2014')]].sum()\n",
    "df = df.drop(('Telangana', '2014'))"
   ]
  },
  {
   "cell_type": "code",
   "execution_count": 13,
   "metadata": {},
   "outputs": [
    {
     "output_type": "stream",
     "name": "stdout",
     "text": [
      "Assam 2011\nMeghalaya 2005\nTelangana 2005\nTelangana 2006\nTelangana 2007\nTelangana 2008\nTelangana 2009\nTelangana 2010\nTelangana 2011\nTelangana 2012\nTelangana 2013\nTelangana 2014\nDaman & Diu 2005\nDaman & Diu 2006\nDaman & Diu 2013\nDaman & Diu 2014\nDelhi 2010\nBihar 2013\nBihar 2014\nArunachal Pradesh 2005\nArunachal Pradesh 2006\nArunachal Pradesh 2007\nArunachal Pradesh 2008\nArunachal Pradesh 2009\nArunachal Pradesh 2010\nArunachal Pradesh 2011\nArunachal Pradesh 2012\nArunachal Pradesh 2013\nUttarakhand 2009\nUttarakhand 2014\nJammu & Kashmir 2005\nJammu & Kashmir 2006\nJammu & Kashmir 2007\nJammu & Kashmir 2008\nKarnataka 2010\nSikkim 2005\nSikkim 2006\nSikkim 2008\nSikkim 2009\nSikkim 2010\nSikkim 2011\nSikkim 2012\nSikkim 2013\nSikkim 2014\nManipur 2005\nManipur 2006\nManipur 2009\nManipur 2010\nManipur 2011\nManipur 2012\nManipur 2013\nManipur 2014\nNagaland 2012\nNagaland 2014\nMizoram 2009\nDadra & Nagar Haveli 2005\nDadra & Nagar Haveli 2006\nDadra & Nagar Haveli 2013\nDadra & Nagar Haveli 2014\n"
     ]
    }
   ],
   "source": [
    "for state in states:\n",
    "    for year in years:\n",
    "        if (state, year) not in df.index:\n",
    "            print(state, year)"
   ]
  },
  {
   "cell_type": "code",
   "execution_count": 14,
   "metadata": {},
   "outputs": [],
   "source": [
    "# df.to_csv(\"AirQualityData-Clean.csv\")"
   ]
  },
  {
   "cell_type": "code",
   "execution_count": 15,
   "metadata": {},
   "outputs": [
    {
     "output_type": "execute_result",
     "data": {
      "text/plain": [
       "so2     3\n",
       "no2     1\n",
       "rspm    2\n",
       "dtype: int64"
      ]
     },
     "metadata": {},
     "execution_count": 15
    }
   ],
   "source": [
    "# Get number of rows that have null values\n",
    "df.isnull().sum()"
   ]
  },
  {
   "cell_type": "code",
   "execution_count": 16,
   "metadata": {},
   "outputs": [
    {
     "output_type": "execute_result",
     "data": {
      "text/plain": [
       "              so2  no2       rspm\n",
       "state   date                     \n",
       "Mizoram 2005  NaN  NaN  27.856287"
      ],
      "text/html": "<div>\n<style scoped>\n    .dataframe tbody tr th:only-of-type {\n        vertical-align: middle;\n    }\n\n    .dataframe tbody tr th {\n        vertical-align: top;\n    }\n\n    .dataframe thead th {\n        text-align: right;\n    }\n</style>\n<table border=\"1\" class=\"dataframe\">\n  <thead>\n    <tr style=\"text-align: right;\">\n      <th></th>\n      <th></th>\n      <th>so2</th>\n      <th>no2</th>\n      <th>rspm</th>\n    </tr>\n    <tr>\n      <th>state</th>\n      <th>date</th>\n      <th></th>\n      <th></th>\n      <th></th>\n    </tr>\n  </thead>\n  <tbody>\n    <tr>\n      <th>Mizoram</th>\n      <th>2005</th>\n      <td>NaN</td>\n      <td>NaN</td>\n      <td>27.856287</td>\n    </tr>\n  </tbody>\n</table>\n</div>"
     },
     "metadata": {},
     "execution_count": 16
    }
   ],
   "source": [
    "# Get rows that have null values for no2\n",
    "df[df['no2'].isnull()]"
   ]
  },
  {
   "cell_type": "code",
   "execution_count": 17,
   "metadata": {},
   "outputs": [
    {
     "output_type": "execute_result",
     "data": {
      "text/plain": [
       "               so2        no2       rspm\n",
       "state    date                           \n",
       "Mizoram  2005  NaN        NaN  27.856287\n",
       "         2008  NaN   7.246286  37.304207\n",
       "Nagaland 2005  NaN  14.760000  79.764706"
      ],
      "text/html": "<div>\n<style scoped>\n    .dataframe tbody tr th:only-of-type {\n        vertical-align: middle;\n    }\n\n    .dataframe tbody tr th {\n        vertical-align: top;\n    }\n\n    .dataframe thead th {\n        text-align: right;\n    }\n</style>\n<table border=\"1\" class=\"dataframe\">\n  <thead>\n    <tr style=\"text-align: right;\">\n      <th></th>\n      <th></th>\n      <th>so2</th>\n      <th>no2</th>\n      <th>rspm</th>\n    </tr>\n    <tr>\n      <th>state</th>\n      <th>date</th>\n      <th></th>\n      <th></th>\n      <th></th>\n    </tr>\n  </thead>\n  <tbody>\n    <tr>\n      <th rowspan=\"2\" valign=\"top\">Mizoram</th>\n      <th>2005</th>\n      <td>NaN</td>\n      <td>NaN</td>\n      <td>27.856287</td>\n    </tr>\n    <tr>\n      <th>2008</th>\n      <td>NaN</td>\n      <td>7.246286</td>\n      <td>37.304207</td>\n    </tr>\n    <tr>\n      <th>Nagaland</th>\n      <th>2005</th>\n      <td>NaN</td>\n      <td>14.760000</td>\n      <td>79.764706</td>\n    </tr>\n  </tbody>\n</table>\n</div>"
     },
     "metadata": {},
     "execution_count": 17
    }
   ],
   "source": [
    "# Get rows that have null values for so2\n",
    "df[df['so2'].isnull()]"
   ]
  },
  {
   "cell_type": "code",
   "execution_count": 18,
   "metadata": {},
   "outputs": [
    {
     "output_type": "execute_result",
     "data": {
      "text/plain": [
       "                                so2        no2  rspm\n",
       "state                date                           \n",
       "Dadra & Nagar Haveli 2012  7.618667  20.181333   NaN\n",
       "Daman & Diu          2012  7.628947  20.147368   NaN"
      ],
      "text/html": "<div>\n<style scoped>\n    .dataframe tbody tr th:only-of-type {\n        vertical-align: middle;\n    }\n\n    .dataframe tbody tr th {\n        vertical-align: top;\n    }\n\n    .dataframe thead th {\n        text-align: right;\n    }\n</style>\n<table border=\"1\" class=\"dataframe\">\n  <thead>\n    <tr style=\"text-align: right;\">\n      <th></th>\n      <th></th>\n      <th>so2</th>\n      <th>no2</th>\n      <th>rspm</th>\n    </tr>\n    <tr>\n      <th>state</th>\n      <th>date</th>\n      <th></th>\n      <th></th>\n      <th></th>\n    </tr>\n  </thead>\n  <tbody>\n    <tr>\n      <th>Dadra &amp; Nagar Haveli</th>\n      <th>2012</th>\n      <td>7.618667</td>\n      <td>20.181333</td>\n      <td>NaN</td>\n    </tr>\n    <tr>\n      <th>Daman &amp; Diu</th>\n      <th>2012</th>\n      <td>7.628947</td>\n      <td>20.147368</td>\n      <td>NaN</td>\n    </tr>\n  </tbody>\n</table>\n</div>"
     },
     "metadata": {},
     "execution_count": 18
    }
   ],
   "source": [
    "# Get rows that have null values for rspm\n",
    "df[df['rspm'].isnull()]"
   ]
  },
  {
   "cell_type": "code",
   "execution_count": 20,
   "metadata": {},
   "outputs": [],
   "source": [
    "# Get rows that have null values for spm\n",
    "# df[df['spm'].isnull()]\n",
    "# df[df.isnull().any(axis=1)]"
   ]
  },
  {
   "cell_type": "code",
   "execution_count": 21,
   "metadata": {},
   "outputs": [
    {
     "output_type": "execute_result",
     "data": {
      "text/plain": [
       "Empty DataFrame\n",
       "Columns: [so2, no2, rspm]\n",
       "Index: []"
      ],
      "text/html": "<div>\n<style scoped>\n    .dataframe tbody tr th:only-of-type {\n        vertical-align: middle;\n    }\n\n    .dataframe tbody tr th {\n        vertical-align: top;\n    }\n\n    .dataframe thead th {\n        text-align: right;\n    }\n</style>\n<table border=\"1\" class=\"dataframe\">\n  <thead>\n    <tr style=\"text-align: right;\">\n      <th></th>\n      <th></th>\n      <th>so2</th>\n      <th>no2</th>\n      <th>rspm</th>\n    </tr>\n    <tr>\n      <th>state</th>\n      <th>date</th>\n      <th></th>\n      <th></th>\n      <th></th>\n    </tr>\n  </thead>\n  <tbody>\n  </tbody>\n</table>\n</div>"
     },
     "metadata": {},
     "execution_count": 21
    }
   ],
   "source": [
    "# Get rows that have non numeric values\n",
    "import numpy as np\n",
    "df[~df.iloc[:, 1:].applymap(np.isreal).all(1)]"
   ]
  },
  {
   "cell_type": "code",
   "execution_count": null,
   "metadata": {},
   "outputs": [],
   "source": []
  }
 ]
}
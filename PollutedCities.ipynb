{
 "metadata": {
  "language_info": {
   "codemirror_mode": {
    "name": "ipython",
    "version": 3
   },
   "file_extension": ".py",
   "mimetype": "text/x-python",
   "name": "python",
   "nbconvert_exporter": "python",
   "pygments_lexer": "ipython3",
   "version": "3.7.9-final"
  },
  "orig_nbformat": 2,
  "kernelspec": {
   "name": "python3",
   "display_name": "Python 3.7.9 64-bit ('myenv': conda)",
   "metadata": {
    "interpreter": {
     "hash": "b8c1dc0667d957209bd208daa667676ada033b9f1c9f74f83f0de44230d4154a"
    }
   }
  }
 },
 "nbformat": 4,
 "nbformat_minor": 2,
 "cells": [
  {
   "cell_type": "code",
   "execution_count": 368,
   "metadata": {},
   "outputs": [],
   "source": [
    "inputfile = 'AirQualityData.csv'"
   ]
  },
  {
   "cell_type": "code",
   "execution_count": 369,
   "metadata": {},
   "outputs": [],
   "source": [
    "import pandas as pd"
   ]
  },
  {
   "cell_type": "code",
   "execution_count": 370,
   "metadata": {},
   "outputs": [],
   "source": [
    "df = pd.read_csv(inputfile, encoding = \"ISO-8859-1\")"
   ]
  },
  {
   "cell_type": "code",
   "execution_count": 371,
   "metadata": {},
   "outputs": [],
   "source": [
    "df = df.drop(['stn_code', 'sampling_date', 'agency', 'type', 'location_monitoring_station','pm2_5', 'spm'], axis = 1)"
   ]
  },
  {
   "cell_type": "code",
   "execution_count": 372,
   "metadata": {},
   "outputs": [
    {
     "output_type": "execute_result",
     "data": {
      "text/plain": [
       "array(['state', 'location', 'so2', 'no2', 'rspm', 'date'], dtype=object)"
      ]
     },
     "metadata": {},
     "execution_count": 372
    }
   ],
   "source": [
    "df.columns.values"
   ]
  },
  {
   "cell_type": "code",
   "execution_count": 373,
   "metadata": {},
   "outputs": [],
   "source": [
    "years = ['2013','2014']\n",
    "df = df[df[\"date\"].str.contains('|'.join(years), na=False)]"
   ]
  },
  {
   "cell_type": "code",
   "execution_count": 374,
   "metadata": {},
   "outputs": [],
   "source": [
    "df.loc[:, 'date'] = df['date'].str.split('-', expand=True)[0]"
   ]
  },
  {
   "cell_type": "code",
   "execution_count": 375,
   "metadata": {},
   "outputs": [],
   "source": [
    "df['state'] = df['state'].replace(['Uttaranchal'],'Uttarakhand')\n",
    "df['state'] = df['state'].replace(['Telangana'],'Andhra Pradesh')"
   ]
  },
  {
   "cell_type": "code",
   "execution_count": 376,
   "metadata": {},
   "outputs": [],
   "source": [
    "df = df.groupby(['state','location', 'date']).mean()"
   ]
  },
  {
   "cell_type": "code",
   "execution_count": 377,
   "metadata": {},
   "outputs": [],
   "source": [
    "# Snippets for checking null values (set year as 2014)\n",
    "# df.sort_values(by = ['state','location','date'], ascending=[True,True,False])\n",
    "# df.isnull().sum()\n",
    "# df[df['so2'].isnull()]\n",
    "# df[df['no2'].isnull()]"
   ]
  },
  {
   "cell_type": "code",
   "execution_count": 378,
   "metadata": {},
   "outputs": [
    {
     "output_type": "execute_result",
     "data": {
      "text/plain": [
       "so2       5.459459\n",
       "no2      15.189189\n",
       "rspm    121.482143\n",
       "Name: (Andhra Pradesh, Eluru, 2014), dtype: float64"
      ]
     },
     "metadata": {},
     "execution_count": 378
    }
   ],
   "source": [
    "# Only this row has NA in no2 and so2 in 2014, rspm is present for all cities in 2014\n",
    "df.loc['Andhra Pradesh','Eluru','2014']['so2'] = df.loc['Andhra Pradesh','Eluru','2013']['so2']\n",
    "df.loc['Andhra Pradesh','Eluru','2014']['no2'] = df.loc['Andhra Pradesh','Eluru','2013']['no2']\n",
    "df.loc['Andhra Pradesh','Eluru','2014']"
   ]
  },
  {
   "cell_type": "code",
   "execution_count": 379,
   "metadata": {},
   "outputs": [],
   "source": [
    "df = df.reset_index(level=['state','location','date'])"
   ]
  },
  {
   "cell_type": "code",
   "execution_count": 380,
   "metadata": {},
   "outputs": [
    {
     "output_type": "execute_result",
     "data": {
      "text/plain": [
       "              state        location  date        so2        no2        rspm\n",
       "0    Andhra Pradesh      Ananthapur  2013   4.000000  12.564815   70.009259\n",
       "1    Andhra Pradesh      Ananthapur  2014   4.787037  10.314815   75.990741\n",
       "2    Andhra Pradesh        Chittoor  2013   4.310185   9.421296   51.268519\n",
       "3    Andhra Pradesh        Chittoor  2014   5.043478  12.717391   63.944099\n",
       "4    Andhra Pradesh           Eluru  2013   5.459459  15.189189  115.275000\n",
       "..              ...             ...   ...        ...        ...         ...\n",
       "404     West Bengal         Kolkata  2014   8.049180  65.786885  124.824716\n",
       "405     West Bengal        Raniganj  2013  10.041667  50.750000  163.208333\n",
       "406     West Bengal        Raniganj  2014   9.250000  57.980769  134.192308\n",
       "407     West Bengal  South Suburban  2013   8.516471  59.565490  180.366471\n",
       "408     West Bengal  South Suburban  2014   4.213592  37.762136   96.373786\n",
       "\n",
       "[409 rows x 6 columns]"
      ],
      "text/html": "<div>\n<style scoped>\n    .dataframe tbody tr th:only-of-type {\n        vertical-align: middle;\n    }\n\n    .dataframe tbody tr th {\n        vertical-align: top;\n    }\n\n    .dataframe thead th {\n        text-align: right;\n    }\n</style>\n<table border=\"1\" class=\"dataframe\">\n  <thead>\n    <tr style=\"text-align: right;\">\n      <th></th>\n      <th>state</th>\n      <th>location</th>\n      <th>date</th>\n      <th>so2</th>\n      <th>no2</th>\n      <th>rspm</th>\n    </tr>\n  </thead>\n  <tbody>\n    <tr>\n      <th>0</th>\n      <td>Andhra Pradesh</td>\n      <td>Ananthapur</td>\n      <td>2013</td>\n      <td>4.000000</td>\n      <td>12.564815</td>\n      <td>70.009259</td>\n    </tr>\n    <tr>\n      <th>1</th>\n      <td>Andhra Pradesh</td>\n      <td>Ananthapur</td>\n      <td>2014</td>\n      <td>4.787037</td>\n      <td>10.314815</td>\n      <td>75.990741</td>\n    </tr>\n    <tr>\n      <th>2</th>\n      <td>Andhra Pradesh</td>\n      <td>Chittoor</td>\n      <td>2013</td>\n      <td>4.310185</td>\n      <td>9.421296</td>\n      <td>51.268519</td>\n    </tr>\n    <tr>\n      <th>3</th>\n      <td>Andhra Pradesh</td>\n      <td>Chittoor</td>\n      <td>2014</td>\n      <td>5.043478</td>\n      <td>12.717391</td>\n      <td>63.944099</td>\n    </tr>\n    <tr>\n      <th>4</th>\n      <td>Andhra Pradesh</td>\n      <td>Eluru</td>\n      <td>2013</td>\n      <td>5.459459</td>\n      <td>15.189189</td>\n      <td>115.275000</td>\n    </tr>\n    <tr>\n      <th>...</th>\n      <td>...</td>\n      <td>...</td>\n      <td>...</td>\n      <td>...</td>\n      <td>...</td>\n      <td>...</td>\n    </tr>\n    <tr>\n      <th>404</th>\n      <td>West Bengal</td>\n      <td>Kolkata</td>\n      <td>2014</td>\n      <td>8.049180</td>\n      <td>65.786885</td>\n      <td>124.824716</td>\n    </tr>\n    <tr>\n      <th>405</th>\n      <td>West Bengal</td>\n      <td>Raniganj</td>\n      <td>2013</td>\n      <td>10.041667</td>\n      <td>50.750000</td>\n      <td>163.208333</td>\n    </tr>\n    <tr>\n      <th>406</th>\n      <td>West Bengal</td>\n      <td>Raniganj</td>\n      <td>2014</td>\n      <td>9.250000</td>\n      <td>57.980769</td>\n      <td>134.192308</td>\n    </tr>\n    <tr>\n      <th>407</th>\n      <td>West Bengal</td>\n      <td>South Suburban</td>\n      <td>2013</td>\n      <td>8.516471</td>\n      <td>59.565490</td>\n      <td>180.366471</td>\n    </tr>\n    <tr>\n      <th>408</th>\n      <td>West Bengal</td>\n      <td>South Suburban</td>\n      <td>2014</td>\n      <td>4.213592</td>\n      <td>37.762136</td>\n      <td>96.373786</td>\n    </tr>\n  </tbody>\n</table>\n<p>409 rows × 6 columns</p>\n</div>"
     },
     "metadata": {},
     "execution_count": 380
    }
   ],
   "source": [
    "df"
   ]
  },
  {
   "cell_type": "code",
   "execution_count": 381,
   "metadata": {},
   "outputs": [
    {
     "output_type": "execute_result",
     "data": {
      "text/plain": [
       "Index(['state', 'location', 'date', 'so2', 'no2', 'rspm'], dtype='object')"
      ]
     },
     "metadata": {},
     "execution_count": 381
    }
   ],
   "source": [
    "df = df[df['date'].str.contains('2014', na=False)]\n",
    "df.columns"
   ]
  },
  {
   "cell_type": "code",
   "execution_count": 382,
   "metadata": {},
   "outputs": [],
   "source": [
    "df = df.drop(['date'], axis = 1)"
   ]
  },
  {
   "cell_type": "code",
   "execution_count": 383,
   "metadata": {},
   "outputs": [],
   "source": [
    "# For normalisation if required in future\n",
    "# df = (df-df.min())/(df.max()-df.min())"
   ]
  },
  {
   "cell_type": "code",
   "execution_count": 384,
   "metadata": {},
   "outputs": [],
   "source": [
    "df['Mean-Pollutant-Concentration'] = df.mean(axis=1)"
   ]
  },
  {
   "cell_type": "code",
   "execution_count": 385,
   "metadata": {},
   "outputs": [],
   "source": [
    "# Mean-Pollutant-Concentration\n",
    "df = df.drop(['so2', 'no2', 'rspm'], axis = 1)"
   ]
  },
  {
   "cell_type": "code",
   "execution_count": 386,
   "metadata": {},
   "outputs": [],
   "source": [
    "df = df.sort_values(by = ['state','Mean-Pollutant-Concentration'], ascending=[True,False])"
   ]
  },
  {
   "cell_type": "code",
   "execution_count": 387,
   "metadata": {},
   "outputs": [],
   "source": [
    "df = df.groupby('state').head(5)"
   ]
  },
  {
   "cell_type": "code",
   "execution_count": 388,
   "metadata": {},
   "outputs": [
    {
     "output_type": "execute_result",
     "data": {
      "text/plain": [
       "                 state      location  Mean-Pollutant-Concentration\n",
       "31      Andhra Pradesh    Sangareddy                     51.340631\n",
       "5       Andhra Pradesh         Eluru                     47.376931\n",
       "36      Andhra Pradesh    Vijayawada                     43.105870\n",
       "9       Andhra Pradesh     Hyderabad                     42.254452\n",
       "25      Andhra Pradesh    Patancheru                     41.495327\n",
       "43   Arunachal Pradesh      Itanagar                     27.200000\n",
       "44   Arunachal Pradesh    Naharlagun                     23.733333\n",
       "60               Assam        Nagaon                     40.130802\n",
       "54               Assam      Guwahati                     38.493594\n",
       "66               Assam     Sivasagar                     36.186603\n",
       "64               Assam       Silcher                     33.142310\n",
       "62               Assam       Nalbari                     32.744337\n",
       "72          Chandigarh    Chandigarh                     38.140950\n",
       "80        Chhattisgarh        Raipur                    128.437564\n",
       "74        Chhattisgarh        Bhilai                     47.641475\n",
       "76        Chhattisgarh      Bilaspur                     42.595021\n",
       "78        Chhattisgarh         Korba                     34.047145\n",
       "82               Delhi         Delhi                     95.247586\n",
       "99                 Goa         Vasco                     23.149254\n",
       "93                 Goa        Panaji                     20.455285\n",
       "113            Gujarat          Vapi                     42.519380\n",
       "103            Gujarat    Ankleshwar                     41.917492\n",
       "109            Gujarat         Surat                     41.137255\n",
       "111            Gujarat      Vadodara                     41.018333\n",
       "105            Gujarat      Jamnagar                     40.194610\n",
       "115            Haryana     Faridabad                     78.649396\n",
       "117            Haryana  Yamuna Nagar                     32.757576\n",
       "123   Himachal Pradesh      Kala Amb                     51.921208\n",
       "129   Himachal Pradesh  Paonta Sahib                     49.007560\n",
       "127   Himachal Pradesh      Nalagarh                     47.013774"
      ],
      "text/html": "<div>\n<style scoped>\n    .dataframe tbody tr th:only-of-type {\n        vertical-align: middle;\n    }\n\n    .dataframe tbody tr th {\n        vertical-align: top;\n    }\n\n    .dataframe thead th {\n        text-align: right;\n    }\n</style>\n<table border=\"1\" class=\"dataframe\">\n  <thead>\n    <tr style=\"text-align: right;\">\n      <th></th>\n      <th>state</th>\n      <th>location</th>\n      <th>Mean-Pollutant-Concentration</th>\n    </tr>\n  </thead>\n  <tbody>\n    <tr>\n      <th>31</th>\n      <td>Andhra Pradesh</td>\n      <td>Sangareddy</td>\n      <td>51.340631</td>\n    </tr>\n    <tr>\n      <th>5</th>\n      <td>Andhra Pradesh</td>\n      <td>Eluru</td>\n      <td>47.376931</td>\n    </tr>\n    <tr>\n      <th>36</th>\n      <td>Andhra Pradesh</td>\n      <td>Vijayawada</td>\n      <td>43.105870</td>\n    </tr>\n    <tr>\n      <th>9</th>\n      <td>Andhra Pradesh</td>\n      <td>Hyderabad</td>\n      <td>42.254452</td>\n    </tr>\n    <tr>\n      <th>25</th>\n      <td>Andhra Pradesh</td>\n      <td>Patancheru</td>\n      <td>41.495327</td>\n    </tr>\n    <tr>\n      <th>43</th>\n      <td>Arunachal Pradesh</td>\n      <td>Itanagar</td>\n      <td>27.200000</td>\n    </tr>\n    <tr>\n      <th>44</th>\n      <td>Arunachal Pradesh</td>\n      <td>Naharlagun</td>\n      <td>23.733333</td>\n    </tr>\n    <tr>\n      <th>60</th>\n      <td>Assam</td>\n      <td>Nagaon</td>\n      <td>40.130802</td>\n    </tr>\n    <tr>\n      <th>54</th>\n      <td>Assam</td>\n      <td>Guwahati</td>\n      <td>38.493594</td>\n    </tr>\n    <tr>\n      <th>66</th>\n      <td>Assam</td>\n      <td>Sivasagar</td>\n      <td>36.186603</td>\n    </tr>\n    <tr>\n      <th>64</th>\n      <td>Assam</td>\n      <td>Silcher</td>\n      <td>33.142310</td>\n    </tr>\n    <tr>\n      <th>62</th>\n      <td>Assam</td>\n      <td>Nalbari</td>\n      <td>32.744337</td>\n    </tr>\n    <tr>\n      <th>72</th>\n      <td>Chandigarh</td>\n      <td>Chandigarh</td>\n      <td>38.140950</td>\n    </tr>\n    <tr>\n      <th>80</th>\n      <td>Chhattisgarh</td>\n      <td>Raipur</td>\n      <td>128.437564</td>\n    </tr>\n    <tr>\n      <th>74</th>\n      <td>Chhattisgarh</td>\n      <td>Bhilai</td>\n      <td>47.641475</td>\n    </tr>\n    <tr>\n      <th>76</th>\n      <td>Chhattisgarh</td>\n      <td>Bilaspur</td>\n      <td>42.595021</td>\n    </tr>\n    <tr>\n      <th>78</th>\n      <td>Chhattisgarh</td>\n      <td>Korba</td>\n      <td>34.047145</td>\n    </tr>\n    <tr>\n      <th>82</th>\n      <td>Delhi</td>\n      <td>Delhi</td>\n      <td>95.247586</td>\n    </tr>\n    <tr>\n      <th>99</th>\n      <td>Goa</td>\n      <td>Vasco</td>\n      <td>23.149254</td>\n    </tr>\n    <tr>\n      <th>93</th>\n      <td>Goa</td>\n      <td>Panaji</td>\n      <td>20.455285</td>\n    </tr>\n    <tr>\n      <th>113</th>\n      <td>Gujarat</td>\n      <td>Vapi</td>\n      <td>42.519380</td>\n    </tr>\n    <tr>\n      <th>103</th>\n      <td>Gujarat</td>\n      <td>Ankleshwar</td>\n      <td>41.917492</td>\n    </tr>\n    <tr>\n      <th>109</th>\n      <td>Gujarat</td>\n      <td>Surat</td>\n      <td>41.137255</td>\n    </tr>\n    <tr>\n      <th>111</th>\n      <td>Gujarat</td>\n      <td>Vadodara</td>\n      <td>41.018333</td>\n    </tr>\n    <tr>\n      <th>105</th>\n      <td>Gujarat</td>\n      <td>Jamnagar</td>\n      <td>40.194610</td>\n    </tr>\n    <tr>\n      <th>115</th>\n      <td>Haryana</td>\n      <td>Faridabad</td>\n      <td>78.649396</td>\n    </tr>\n    <tr>\n      <th>117</th>\n      <td>Haryana</td>\n      <td>Yamuna Nagar</td>\n      <td>32.757576</td>\n    </tr>\n    <tr>\n      <th>123</th>\n      <td>Himachal Pradesh</td>\n      <td>Kala Amb</td>\n      <td>51.921208</td>\n    </tr>\n    <tr>\n      <th>129</th>\n      <td>Himachal Pradesh</td>\n      <td>Paonta Sahib</td>\n      <td>49.007560</td>\n    </tr>\n    <tr>\n      <th>127</th>\n      <td>Himachal Pradesh</td>\n      <td>Nalagarh</td>\n      <td>47.013774</td>\n    </tr>\n  </tbody>\n</table>\n</div>"
     },
     "metadata": {},
     "execution_count": 388
    }
   ],
   "source": [
    "df.head(30)"
   ]
  },
  {
   "cell_type": "code",
   "execution_count": 389,
   "metadata": {},
   "outputs": [],
   "source": [
    "df.to_csv(\"PollutedCities.csv\", index=False)"
   ]
  },
  {
   "cell_type": "code",
   "execution_count": null,
   "metadata": {},
   "outputs": [],
   "source": []
  }
 ]
}
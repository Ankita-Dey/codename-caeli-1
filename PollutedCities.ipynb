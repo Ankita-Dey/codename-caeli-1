{
 "metadata": {
  "language_info": {
   "codemirror_mode": {
    "name": "ipython",
    "version": 3
   },
   "file_extension": ".py",
   "mimetype": "text/x-python",
   "name": "python",
   "nbconvert_exporter": "python",
   "pygments_lexer": "ipython3",
   "version": "3.7.9-final"
  },
  "orig_nbformat": 2,
  "kernelspec": {
   "name": "python3",
   "display_name": "Python 3.7.9 64-bit ('myenv': conda)",
   "metadata": {
    "interpreter": {
     "hash": "b8c1dc0667d957209bd208daa667676ada033b9f1c9f74f83f0de44230d4154a"
    }
   }
  }
 },
 "nbformat": 4,
 "nbformat_minor": 2,
 "cells": [
  {
   "cell_type": "code",
   "execution_count": 142,
   "metadata": {},
   "outputs": [],
   "source": [
    "inputfile = 'AirQualityData.csv'"
   ]
  },
  {
   "cell_type": "code",
   "execution_count": 143,
   "metadata": {},
   "outputs": [],
   "source": [
    "import pandas as pd"
   ]
  },
  {
   "cell_type": "code",
   "execution_count": 144,
   "metadata": {},
   "outputs": [],
   "source": [
    "df = pd.read_csv(inputfile, encoding = \"ISO-8859-1\")"
   ]
  },
  {
   "cell_type": "code",
   "execution_count": 145,
   "metadata": {},
   "outputs": [],
   "source": [
    "df = df.drop(['stn_code', 'sampling_date', 'agency', 'type', 'location_monitoring_station','pm2_5', 'spm'], axis = 1)"
   ]
  },
  {
   "cell_type": "code",
   "execution_count": 146,
   "metadata": {},
   "outputs": [
    {
     "output_type": "execute_result",
     "data": {
      "text/plain": [
       "array(['state', 'location', 'so2', 'no2', 'rspm', 'date'], dtype=object)"
      ]
     },
     "metadata": {},
     "execution_count": 146
    }
   ],
   "source": [
    "df.columns.values"
   ]
  },
  {
   "cell_type": "code",
   "execution_count": 147,
   "metadata": {},
   "outputs": [],
   "source": [
    "years = ['2013','2014']\n",
    "df = df[df[\"date\"].str.contains('|'.join(years), na=False)]"
   ]
  },
  {
   "cell_type": "code",
   "execution_count": 148,
   "metadata": {},
   "outputs": [],
   "source": [
    "# df2 = pd.read_csv('Air_Quality_MapFile.csv')\n",
    "\n",
    "# df2.drop(df2[df2['Year'] < 2014 ].index , inplace=True)\n",
    "# df2 = df2.drop(['Year', 'zscore', 'spot'], axis = 1)\n",
    "# df2\n",
    "\n",
    "# state = set(df['state'])\n",
    "# state2 = set(df2['State'])\n",
    "# state - state2"
   ]
  },
  {
   "cell_type": "code",
   "execution_count": 149,
   "metadata": {},
   "outputs": [],
   "source": [
    "df.loc[:, 'date'] = df['date'].str.split('-', expand=True)[0]"
   ]
  },
  {
   "cell_type": "code",
   "execution_count": 150,
   "metadata": {},
   "outputs": [],
   "source": [
    "df['state'] = df['state'].replace(['Uttaranchal'],'Uttarakhand')\n",
    "df['state'] = df['state'].replace(['Telangana'],'Andhra Pradesh')"
   ]
  },
  {
   "cell_type": "code",
   "execution_count": 151,
   "metadata": {},
   "outputs": [],
   "source": [
    "df = df.groupby(['state','location', 'date']).mean()"
   ]
  },
  {
   "cell_type": "code",
   "execution_count": 152,
   "metadata": {},
   "outputs": [],
   "source": [
    "# Snippets for checking null values (set year as 2014)\n",
    "# df.sort_values(by = ['state','location','date'], ascending=[True,True,False])\n",
    "# df.isnull().sum()\n",
    "# df[df['so2'].isnull()]\n",
    "# df[df['no2'].isnull()]"
   ]
  },
  {
   "cell_type": "code",
   "execution_count": 153,
   "metadata": {},
   "outputs": [
    {
     "output_type": "execute_result",
     "data": {
      "text/plain": [
       "so2       5.459459\n",
       "no2      15.189189\n",
       "rspm    121.482143\n",
       "Name: (Andhra Pradesh, Eluru, 2014), dtype: float64"
      ]
     },
     "metadata": {},
     "execution_count": 153
    }
   ],
   "source": [
    "# Only this row has NA in no2 and so2 in 2014, rspm is present for all cities in 2014\n",
    "df.loc['Andhra Pradesh','Eluru','2014']['so2'] = df.loc['Andhra Pradesh','Eluru','2013']['so2']\n",
    "df.loc['Andhra Pradesh','Eluru','2014']['no2'] = df.loc['Andhra Pradesh','Eluru','2013']['no2']\n",
    "df.loc['Andhra Pradesh','Eluru','2014']"
   ]
  },
  {
   "cell_type": "code",
   "execution_count": 154,
   "metadata": {},
   "outputs": [],
   "source": [
    "df = df.reset_index(level=['state','location','date'])"
   ]
  },
  {
   "cell_type": "code",
   "execution_count": 155,
   "metadata": {},
   "outputs": [
    {
     "output_type": "execute_result",
     "data": {
      "text/plain": [
       "Index(['state', 'location', 'date', 'so2', 'no2', 'rspm'], dtype='object')"
      ]
     },
     "metadata": {},
     "execution_count": 155
    }
   ],
   "source": [
    "df = df[df['date'].str.contains('2014', na=False)]\n",
    "df.columns"
   ]
  },
  {
   "cell_type": "code",
   "execution_count": 156,
   "metadata": {},
   "outputs": [],
   "source": [
    "df = df.drop(['date'], axis = 1)"
   ]
  },
  {
   "cell_type": "code",
   "execution_count": 157,
   "metadata": {},
   "outputs": [],
   "source": [
    "# For normalisation if required in future\n",
    "# df = (df-df.min())/(df.max()-df.min())"
   ]
  },
  {
   "cell_type": "code",
   "execution_count": 158,
   "metadata": {},
   "outputs": [],
   "source": [
    "df['Mean-Pollutant-Concentration'] = df.mean(axis=1)"
   ]
  },
  {
   "cell_type": "code",
   "execution_count": 159,
   "metadata": {},
   "outputs": [],
   "source": [
    "# Mean-Pollutant-Concentration\n",
    "df = df.drop(['so2', 'no2', 'rspm'], axis = 1)"
   ]
  },
  {
   "cell_type": "code",
   "execution_count": 160,
   "metadata": {},
   "outputs": [],
   "source": [
    "df = df.sort_values(by = ['state','Mean-Pollutant-Concentration'], ascending=[True,False])"
   ]
  },
  {
   "cell_type": "code",
   "execution_count": 161,
   "metadata": {},
   "outputs": [],
   "source": [
    "# ADDED MPC AND XCO YCO FROM Air_Quality_MapFile.csv\n",
    "\n",
    "df2 = pd.read_csv('Air_Quality_MapFile.csv')\n",
    "df2 = df2[df2['Year'] == 2014 ]\n",
    "# df2.drop(df2[df2['Year'] < 2014 ].index , inplace=True)\n",
    "df2 = df2.drop(['Year', 'zscore', 'spot'], axis = 1)\n",
    "\n",
    "# Check if inner join is safe (must give empty set)\n",
    "state = set(df['state'])\n",
    "state2 = set(df2['State'])\n",
    "state - state2\n",
    "\n",
    "df2.rename(columns = {'State':'state', 'Mpc':'state-Mpc'}, inplace = True)\n",
    "\n",
    "df = pd.merge(df, df2)"
   ]
  },
  {
   "cell_type": "code",
   "execution_count": 162,
   "metadata": {},
   "outputs": [],
   "source": [
    "df = df.groupby('state').head(5)"
   ]
  },
  {
   "cell_type": "code",
   "execution_count": 163,
   "metadata": {},
   "outputs": [],
   "source": [
    "df.to_csv(\"PollutedCities.csv\", index=False)"
   ]
  },
  {
   "cell_type": "code",
   "execution_count": 418,
   "metadata": {},
   "outputs": [
    {
     "output_type": "execute_result",
     "data": {
      "text/plain": [
       "{'Andhra Pradesh',\n",
       " 'Arunachal Pradesh',\n",
       " 'Assam',\n",
       " 'Chandigarh',\n",
       " 'Chhattisgarh',\n",
       " 'Delhi',\n",
       " 'Goa',\n",
       " 'Gujarat',\n",
       " 'Haryana',\n",
       " 'Himachal Pradesh',\n",
       " 'Jammu & Kashmir',\n",
       " 'Jharkhand',\n",
       " 'Karnataka',\n",
       " 'Kerala',\n",
       " 'Madhya Pradesh',\n",
       " 'Maharashtra',\n",
       " 'Meghalaya',\n",
       " 'Mizoram',\n",
       " 'Odisha',\n",
       " 'Puducherry',\n",
       " 'Punjab',\n",
       " 'Rajasthan',\n",
       " 'Tamil Nadu',\n",
       " 'Uttar Pradesh',\n",
       " 'West Bengal'}"
      ]
     },
     "metadata": {},
     "execution_count": 418
    }
   ],
   "source": [
    "# set(df['state'])"
   ]
  },
  {
   "cell_type": "code",
   "execution_count": null,
   "metadata": {},
   "outputs": [],
   "source": []
  }
 ]
}